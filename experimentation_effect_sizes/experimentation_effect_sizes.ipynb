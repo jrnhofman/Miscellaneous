{
 "cells": [
  {
   "cell_type": "markdown",
   "metadata": {},
   "source": [
    "Problem statement:\n",
    "\n",
    "We have a set of samples which wildly vary in the metric we are trying to optimize for. We do A/B experimentation on these samples where we apply CUPED corrections to the metric to reduce it's variance. However, our samples actually consists of a set of subsamples which we cannot randomize on individually as the intervention only works on the sample level (i.e. the same intervention is always applied to all subsamples of a sample). However, we could try to do the split on A/B on the sample level, but do the evaluation on the subsample level (with corresponding CUPED corrections on this subsample level).\n",
    "\n",
    "In this notebook I hope to prove that for such an approach we can actually reduce the untreated and CUPED-corrected effect sizes in an A/A setting (i.e. the effect size we see in an A/A should be a more narrow distribution around 0 for the subsampling approach versus the sampling one)."
   ]
  },
  {
   "cell_type": "code",
   "execution_count": 112,
   "metadata": {},
   "outputs": [],
   "source": [
    "import pandas as pd\n",
    "import numpy as np\n",
    "import matplotlib.pyplot as plt\n",
    "import seaborn\n",
    "%matplotlib inline"
   ]
  },
  {
   "cell_type": "code",
   "execution_count": 113,
   "metadata": {},
   "outputs": [],
   "source": [
    "# Getting data\n",
    "data = pd.read_csv('experiment_data.csv')"
   ]
  },
  {
   "cell_type": "code",
   "execution_count": 114,
   "metadata": {},
   "outputs": [
    {
     "data": {
      "text/html": [
       "<div>\n",
       "<style scoped>\n",
       "    .dataframe tbody tr th:only-of-type {\n",
       "        vertical-align: middle;\n",
       "    }\n",
       "\n",
       "    .dataframe tbody tr th {\n",
       "        vertical-align: top;\n",
       "    }\n",
       "\n",
       "    .dataframe thead th {\n",
       "        text-align: right;\n",
       "    }\n",
       "</style>\n",
       "<table border=\"1\" class=\"dataframe\">\n",
       "  <thead>\n",
       "    <tr style=\"text-align: right;\">\n",
       "      <th></th>\n",
       "      <th>identifier</th>\n",
       "      <th>n_sub_identifiers</th>\n",
       "      <th>covariates</th>\n",
       "      <th>metrics</th>\n",
       "    </tr>\n",
       "  </thead>\n",
       "  <tbody>\n",
       "    <tr>\n",
       "      <th>0</th>\n",
       "      <td>15467721</td>\n",
       "      <td>175</td>\n",
       "      <td>[0, 0, 0, 0, 0, 0, 0, 0, 0, 0, 0, 0, 0, 4, 0, ...</td>\n",
       "      <td>[0, 0, 0, 0, 0, 0, 0, 0, 0, 0, 0, 1, 0, 5, 0, ...</td>\n",
       "    </tr>\n",
       "    <tr>\n",
       "      <th>1</th>\n",
       "      <td>15467841</td>\n",
       "      <td>8</td>\n",
       "      <td>[4, 0, 0, 0, 0, 0, 0, 0]</td>\n",
       "      <td>[8, 0, 0, 0, 0, 0, 0, 0]</td>\n",
       "    </tr>\n",
       "    <tr>\n",
       "      <th>2</th>\n",
       "      <td>15916026</td>\n",
       "      <td>96</td>\n",
       "      <td>[0, 0, 0, 0, 0, 0, 0, 0, 0, 0, 0, 0, 0, 0, 0, ...</td>\n",
       "      <td>[0, 0, 0, 0, 0, 0, 0, 0, 0, 0, 0, 0, 0, 0, 0, ...</td>\n",
       "    </tr>\n",
       "    <tr>\n",
       "      <th>3</th>\n",
       "      <td>15928806</td>\n",
       "      <td>24</td>\n",
       "      <td>[0, 0, 0, 4, 0, 0, 0, 0, 0, 0, 0, 1, 1, 5, 0, ...</td>\n",
       "      <td>[0, 0, 0, 0, 0, 0, 0, 0, 0, 0, 0, 0, 0, 1, 0, ...</td>\n",
       "    </tr>\n",
       "    <tr>\n",
       "      <th>4</th>\n",
       "      <td>16041186</td>\n",
       "      <td>213</td>\n",
       "      <td>[0, 0, 0, 0, 0, 2, 6, 0, 0, 1, 0, 0, 0, 0, 0, ...</td>\n",
       "      <td>[0, 0, 0, 0, 0, 0, 3, 0, 1, 0, 0, 1, 0, 0, 0, ...</td>\n",
       "    </tr>\n",
       "  </tbody>\n",
       "</table>\n",
       "</div>"
      ],
      "text/plain": [
       "   identifier  n_sub_identifiers  \\\n",
       "0    15467721                175   \n",
       "1    15467841                  8   \n",
       "2    15916026                 96   \n",
       "3    15928806                 24   \n",
       "4    16041186                213   \n",
       "\n",
       "                                          covariates  \\\n",
       "0  [0, 0, 0, 0, 0, 0, 0, 0, 0, 0, 0, 0, 0, 4, 0, ...   \n",
       "1                           [4, 0, 0, 0, 0, 0, 0, 0]   \n",
       "2  [0, 0, 0, 0, 0, 0, 0, 0, 0, 0, 0, 0, 0, 0, 0, ...   \n",
       "3  [0, 0, 0, 4, 0, 0, 0, 0, 0, 0, 0, 1, 1, 5, 0, ...   \n",
       "4  [0, 0, 0, 0, 0, 2, 6, 0, 0, 1, 0, 0, 0, 0, 0, ...   \n",
       "\n",
       "                                             metrics  \n",
       "0  [0, 0, 0, 0, 0, 0, 0, 0, 0, 0, 0, 1, 0, 5, 0, ...  \n",
       "1                           [8, 0, 0, 0, 0, 0, 0, 0]  \n",
       "2  [0, 0, 0, 0, 0, 0, 0, 0, 0, 0, 0, 0, 0, 0, 0, ...  \n",
       "3  [0, 0, 0, 0, 0, 0, 0, 0, 0, 0, 0, 0, 0, 1, 0, ...  \n",
       "4  [0, 0, 0, 0, 0, 0, 3, 0, 1, 0, 0, 1, 0, 0, 0, ...  "
      ]
     },
     "execution_count": 114,
     "metadata": {},
     "output_type": "execute_result"
    }
   ],
   "source": [
    "data.head()"
   ]
  },
  {
   "cell_type": "markdown",
   "metadata": {},
   "source": [
    "Explanation of columns:\n",
    "\n",
    "- identifier: unique sample ID\n",
    "- n_sub_identifiers: number of subsamples per sample\n",
    "- metrics: the metric of interest per subsample, collected during the experiment period\n",
    "- covariates: the covariate for CUPED corrections per subsample, this is the metric collected in the pre-experiment period"
   ]
  },
  {
   "cell_type": "code",
   "execution_count": 115,
   "metadata": {},
   "outputs": [
    {
     "data": {
      "text/plain": [
       "164870"
      ]
     },
     "execution_count": 115,
     "metadata": {},
     "output_type": "execute_result"
    }
   ],
   "source": [
    "data.shape[0]"
   ]
  },
  {
   "cell_type": "code",
   "execution_count": 116,
   "metadata": {},
   "outputs": [
    {
     "data": {
      "text/plain": [
       "identifier            int64\n",
       "n_sub_identifiers     int64\n",
       "covariates           object\n",
       "metrics              object\n",
       "dtype: object"
      ]
     },
     "execution_count": 116,
     "metadata": {},
     "output_type": "execute_result"
    }
   ],
   "source": [
    "data.dtypes"
   ]
  },
  {
   "cell_type": "code",
   "execution_count": 117,
   "metadata": {},
   "outputs": [
    {
     "data": {
      "text/plain": [
       "identifier           0\n",
       "n_sub_identifiers    0\n",
       "covariates           0\n",
       "metrics              0\n",
       "dtype: int64"
      ]
     },
     "execution_count": 117,
     "metadata": {},
     "output_type": "execute_result"
    }
   ],
   "source": [
    "data.isnull().sum()"
   ]
  },
  {
   "cell_type": "code",
   "execution_count": 118,
   "metadata": {},
   "outputs": [
    {
     "data": {
      "text/html": [
       "<div>\n",
       "<style scoped>\n",
       "    .dataframe tbody tr th:only-of-type {\n",
       "        vertical-align: middle;\n",
       "    }\n",
       "\n",
       "    .dataframe tbody tr th {\n",
       "        vertical-align: top;\n",
       "    }\n",
       "\n",
       "    .dataframe thead th {\n",
       "        text-align: right;\n",
       "    }\n",
       "</style>\n",
       "<table border=\"1\" class=\"dataframe\">\n",
       "  <thead>\n",
       "    <tr style=\"text-align: right;\">\n",
       "      <th></th>\n",
       "      <th>sample</th>\n",
       "      <th>n_sub_samples</th>\n",
       "      <th>covariates</th>\n",
       "      <th>metrics</th>\n",
       "      <th>sum_covariates</th>\n",
       "      <th>sum_metrics</th>\n",
       "    </tr>\n",
       "  </thead>\n",
       "  <tbody>\n",
       "    <tr>\n",
       "      <th>0</th>\n",
       "      <td>0</td>\n",
       "      <td>175</td>\n",
       "      <td>[0, 0, 0, 0, 0, 0, 0, 0, 0, 0, 0, 0, 0, 4, 0, ...</td>\n",
       "      <td>[0, 0, 0, 0, 0, 0, 0, 0, 0, 0, 0, 1, 0, 5, 0, ...</td>\n",
       "      <td>127</td>\n",
       "      <td>137</td>\n",
       "    </tr>\n",
       "    <tr>\n",
       "      <th>1</th>\n",
       "      <td>1</td>\n",
       "      <td>8</td>\n",
       "      <td>[4, 0, 0, 0, 0, 0, 0, 0]</td>\n",
       "      <td>[8, 0, 0, 0, 0, 0, 0, 0]</td>\n",
       "      <td>4</td>\n",
       "      <td>8</td>\n",
       "    </tr>\n",
       "    <tr>\n",
       "      <th>2</th>\n",
       "      <td>2</td>\n",
       "      <td>96</td>\n",
       "      <td>[0, 0, 0, 0, 0, 0, 0, 0, 0, 0, 0, 0, 0, 0, 0, ...</td>\n",
       "      <td>[0, 0, 0, 0, 0, 0, 0, 0, 0, 0, 0, 0, 0, 0, 0, ...</td>\n",
       "      <td>19</td>\n",
       "      <td>24</td>\n",
       "    </tr>\n",
       "    <tr>\n",
       "      <th>3</th>\n",
       "      <td>3</td>\n",
       "      <td>24</td>\n",
       "      <td>[0, 0, 0, 4, 0, 0, 0, 0, 0, 0, 0, 1, 1, 5, 0, ...</td>\n",
       "      <td>[0, 0, 0, 0, 0, 0, 0, 0, 0, 0, 0, 0, 0, 1, 0, ...</td>\n",
       "      <td>12</td>\n",
       "      <td>1</td>\n",
       "    </tr>\n",
       "    <tr>\n",
       "      <th>4</th>\n",
       "      <td>4</td>\n",
       "      <td>213</td>\n",
       "      <td>[0, 0, 0, 0, 0, 2, 6, 0, 0, 1, 0, 0, 0, 0, 0, ...</td>\n",
       "      <td>[0, 0, 0, 0, 0, 0, 3, 0, 1, 0, 0, 1, 0, 0, 0, ...</td>\n",
       "      <td>166</td>\n",
       "      <td>123</td>\n",
       "    </tr>\n",
       "  </tbody>\n",
       "</table>\n",
       "</div>"
      ],
      "text/plain": [
       "   sample  n_sub_samples                                         covariates  \\\n",
       "0       0            175  [0, 0, 0, 0, 0, 0, 0, 0, 0, 0, 0, 0, 0, 4, 0, ...   \n",
       "1       1              8                           [4, 0, 0, 0, 0, 0, 0, 0]   \n",
       "2       2             96  [0, 0, 0, 0, 0, 0, 0, 0, 0, 0, 0, 0, 0, 0, 0, ...   \n",
       "3       3             24  [0, 0, 0, 4, 0, 0, 0, 0, 0, 0, 0, 1, 1, 5, 0, ...   \n",
       "4       4            213  [0, 0, 0, 0, 0, 2, 6, 0, 0, 1, 0, 0, 0, 0, 0, ...   \n",
       "\n",
       "                                             metrics  sum_covariates  \\\n",
       "0  [0, 0, 0, 0, 0, 0, 0, 0, 0, 0, 0, 1, 0, 5, 0, ...             127   \n",
       "1                           [8, 0, 0, 0, 0, 0, 0, 0]               4   \n",
       "2  [0, 0, 0, 0, 0, 0, 0, 0, 0, 0, 0, 0, 0, 0, 0, ...              19   \n",
       "3  [0, 0, 0, 0, 0, 0, 0, 0, 0, 0, 0, 0, 0, 1, 0, ...              12   \n",
       "4  [0, 0, 0, 0, 0, 0, 3, 0, 1, 0, 0, 1, 0, 0, 0, ...             166   \n",
       "\n",
       "   sum_metrics  \n",
       "0          137  \n",
       "1            8  \n",
       "2           24  \n",
       "3            1  \n",
       "4          123  "
      ]
     },
     "execution_count": 118,
     "metadata": {},
     "output_type": "execute_result"
    }
   ],
   "source": [
    "# Small data-munging\n",
    "tmp = data.drop('identifier',axis=1).reset_index()\n",
    "tmp = tmp.rename(columns={'index' : 'sample', 'n_sub_identifiers' : 'n_sub_samples'})\n",
    "# This is ridiculous but okay, need to cast the 'string of array' to an np.array\n",
    "tmp['covariates'] = tmp['covariates'].apply( lambda x: np.array([int(y) for y in x.strip('[]').split(',')]) )\n",
    "tmp['metrics'] = tmp['metrics'].apply(lambda x: np.array([int(y) for y in x.strip('[]').split(',')]) )\n",
    "tmp['sum_covariates'] = tmp['covariates'].apply(lambda x: np.sum(x))\n",
    "tmp['sum_metrics'] = tmp['metrics'].apply(lambda x: np.sum(x))\n",
    "data_munged = tmp\n",
    "data_munged.head()"
   ]
  },
  {
   "cell_type": "code",
   "execution_count": 119,
   "metadata": {},
   "outputs": [
    {
     "data": {
      "text/plain": [
       "{'covariate_mean': 12.079614241523625, 'theta': 0.90325406445304}"
      ]
     },
     "execution_count": 119,
     "metadata": {},
     "output_type": "execute_result"
    }
   ],
   "source": [
    "# Cuped for samples\n",
    "\n",
    "cuped_param_sample = {}\n",
    "cuped_param_sample['theta'] = np.cov(data_munged[['sum_covariates','sum_metrics']].T)[0,1] / np.var(data_munged['sum_covariates'])\n",
    "cuped_param_sample['covariate_mean'] = np.mean(data_munged['sum_covariates'])\n",
    "cuped_param_sample"
   ]
  },
  {
   "cell_type": "code",
   "execution_count": 120,
   "metadata": {},
   "outputs": [
    {
     "data": {
      "text/plain": [
       "{'covariate_mean': 0.17355192860651003, 'theta': 0.8751434187023117}"
      ]
     },
     "execution_count": 120,
     "metadata": {},
     "output_type": "execute_result"
    }
   ],
   "source": [
    "# Cuped for sub-samples\n",
    "\n",
    "covariate_array = []\n",
    "metric_array = []\n",
    "for row in data_munged.itertuples():\n",
    "    covariate_array.extend(row.covariates)\n",
    "    metric_array.extend(row.metrics)\n",
    "    \n",
    "cuped_param_subsample = {}\n",
    "cuped_param_subsample['theta'] = np.cov(np.array(covariate_array).T,y=np.array(metric_array).T)[0,1] / np.var(covariate_array)\n",
    "cuped_param_subsample['covariate_mean'] = np.sum(data_munged['sum_covariates'])/np.sum(data_munged['n_sub_samples'])\n",
    "cuped_param_subsample"
   ]
  },
  {
   "cell_type": "code",
   "execution_count": 123,
   "metadata": {},
   "outputs": [],
   "source": [
    "# Applying Cuped corrects and creating new columns out of it\n",
    "data_munged['sample_metrics_cuped'] = data_munged['sum_metrics'] - (data_munged['sum_covariates'] - cuped_param_sample['covariate_mean']) * cuped_param_sample['theta']\n",
    "\n",
    "def subsample_cuped(row):\n",
    "    return [(y - (x - cuped_param_subsample['covariate_mean']) * cuped_param_subsample['theta']) for x,y in zip(row['covariates'],row['metrics'])]\n",
    "    \n",
    "data_munged['sub_sample_metrics_cuped'] = data_munged.apply(subsample_cuped, axis=1)\n",
    "data_munged['sub_sample_metrics_cuped_sum'] = data_munged['sub_sample_metrics_cuped'].apply(np.sum)"
   ]
  },
  {
   "cell_type": "code",
   "execution_count": 124,
   "metadata": {},
   "outputs": [
    {
     "data": {
      "text/html": [
       "<div>\n",
       "<style scoped>\n",
       "    .dataframe tbody tr th:only-of-type {\n",
       "        vertical-align: middle;\n",
       "    }\n",
       "\n",
       "    .dataframe tbody tr th {\n",
       "        vertical-align: top;\n",
       "    }\n",
       "\n",
       "    .dataframe thead th {\n",
       "        text-align: right;\n",
       "    }\n",
       "</style>\n",
       "<table border=\"1\" class=\"dataframe\">\n",
       "  <thead>\n",
       "    <tr style=\"text-align: right;\">\n",
       "      <th></th>\n",
       "      <th>sample</th>\n",
       "      <th>n_sub_samples</th>\n",
       "      <th>covariates</th>\n",
       "      <th>metrics</th>\n",
       "      <th>sum_covariates</th>\n",
       "      <th>sum_metrics</th>\n",
       "      <th>sample_metrics_cuped</th>\n",
       "      <th>sub_sample_metrics_cuped</th>\n",
       "      <th>sub_sample_metrics_cuped_sum</th>\n",
       "    </tr>\n",
       "  </thead>\n",
       "  <tbody>\n",
       "    <tr>\n",
       "      <th>0</th>\n",
       "      <td>0</td>\n",
       "      <td>175</td>\n",
       "      <td>[0, 0, 0, 0, 0, 0, 0, 0, 0, 0, 0, 0, 0, 4, 0, ...</td>\n",
       "      <td>[0, 0, 0, 0, 0, 0, 0, 0, 0, 0, 0, 1, 0, 5, 0, ...</td>\n",
       "      <td>127</td>\n",
       "      <td>137</td>\n",
       "      <td>33.197694</td>\n",
       "      <td>[0.1518828281230807, 0.1518828281230807, 0.151...</td>\n",
       "      <td>52.436281</td>\n",
       "    </tr>\n",
       "    <tr>\n",
       "      <th>1</th>\n",
       "      <td>1</td>\n",
       "      <td>8</td>\n",
       "      <td>[4, 0, 0, 0, 0, 0, 0, 0]</td>\n",
       "      <td>[8, 0, 0, 0, 0, 0, 0, 0]</td>\n",
       "      <td>4</td>\n",
       "      <td>8</td>\n",
       "      <td>15.297944</td>\n",
       "      <td>[4.651309153313834, 0.1518828281230807, 0.1518...</td>\n",
       "      <td>5.714489</td>\n",
       "    </tr>\n",
       "    <tr>\n",
       "      <th>2</th>\n",
       "      <td>2</td>\n",
       "      <td>96</td>\n",
       "      <td>[0, 0, 0, 0, 0, 0, 0, 0, 0, 0, 0, 0, 0, 0, 0, ...</td>\n",
       "      <td>[0, 0, 0, 0, 0, 0, 0, 0, 0, 0, 0, 0, 0, 0, 0, ...</td>\n",
       "      <td>19</td>\n",
       "      <td>24</td>\n",
       "      <td>17.749133</td>\n",
       "      <td>[0.1518828281230807, 0.1518828281230807, 0.151...</td>\n",
       "      <td>21.953027</td>\n",
       "    </tr>\n",
       "    <tr>\n",
       "      <th>3</th>\n",
       "      <td>3</td>\n",
       "      <td>24</td>\n",
       "      <td>[0, 0, 0, 4, 0, 0, 0, 0, 0, 0, 0, 1, 1, 5, 0, ...</td>\n",
       "      <td>[0, 0, 0, 0, 0, 0, 0, 0, 0, 0, 0, 0, 0, 1, 0, ...</td>\n",
       "      <td>12</td>\n",
       "      <td>1</td>\n",
       "      <td>1.071912</td>\n",
       "      <td>[0.1518828281230807, 0.1518828281230807, 0.151...</td>\n",
       "      <td>-5.856533</td>\n",
       "    </tr>\n",
       "    <tr>\n",
       "      <th>4</th>\n",
       "      <td>4</td>\n",
       "      <td>213</td>\n",
       "      <td>[0, 0, 0, 0, 0, 2, 6, 0, 0, 1, 0, 0, 0, 0, 0, ...</td>\n",
       "      <td>[0, 0, 0, 0, 0, 0, 3, 0, 1, 0, 0, 1, 0, 0, 0, ...</td>\n",
       "      <td>166</td>\n",
       "      <td>123</td>\n",
       "      <td>-16.029214</td>\n",
       "      <td>[0.1518828281230807, 0.1518828281230807, 0.151...</td>\n",
       "      <td>10.077235</td>\n",
       "    </tr>\n",
       "  </tbody>\n",
       "</table>\n",
       "</div>"
      ],
      "text/plain": [
       "   sample  n_sub_samples                                         covariates  \\\n",
       "0       0            175  [0, 0, 0, 0, 0, 0, 0, 0, 0, 0, 0, 0, 0, 4, 0, ...   \n",
       "1       1              8                           [4, 0, 0, 0, 0, 0, 0, 0]   \n",
       "2       2             96  [0, 0, 0, 0, 0, 0, 0, 0, 0, 0, 0, 0, 0, 0, 0, ...   \n",
       "3       3             24  [0, 0, 0, 4, 0, 0, 0, 0, 0, 0, 0, 1, 1, 5, 0, ...   \n",
       "4       4            213  [0, 0, 0, 0, 0, 2, 6, 0, 0, 1, 0, 0, 0, 0, 0, ...   \n",
       "\n",
       "                                             metrics  sum_covariates  \\\n",
       "0  [0, 0, 0, 0, 0, 0, 0, 0, 0, 0, 0, 1, 0, 5, 0, ...             127   \n",
       "1                           [8, 0, 0, 0, 0, 0, 0, 0]               4   \n",
       "2  [0, 0, 0, 0, 0, 0, 0, 0, 0, 0, 0, 0, 0, 0, 0, ...              19   \n",
       "3  [0, 0, 0, 0, 0, 0, 0, 0, 0, 0, 0, 0, 0, 1, 0, ...              12   \n",
       "4  [0, 0, 0, 0, 0, 0, 3, 0, 1, 0, 0, 1, 0, 0, 0, ...             166   \n",
       "\n",
       "   sum_metrics  sample_metrics_cuped  \\\n",
       "0          137             33.197694   \n",
       "1            8             15.297944   \n",
       "2           24             17.749133   \n",
       "3            1              1.071912   \n",
       "4          123            -16.029214   \n",
       "\n",
       "                            sub_sample_metrics_cuped  \\\n",
       "0  [0.1518828281230807, 0.1518828281230807, 0.151...   \n",
       "1  [4.651309153313834, 0.1518828281230807, 0.1518...   \n",
       "2  [0.1518828281230807, 0.1518828281230807, 0.151...   \n",
       "3  [0.1518828281230807, 0.1518828281230807, 0.151...   \n",
       "4  [0.1518828281230807, 0.1518828281230807, 0.151...   \n",
       "\n",
       "   sub_sample_metrics_cuped_sum  \n",
       "0                     52.436281  \n",
       "1                      5.714489  \n",
       "2                     21.953027  \n",
       "3                     -5.856533  \n",
       "4                     10.077235  "
      ]
     },
     "execution_count": 124,
     "metadata": {},
     "output_type": "execute_result"
    }
   ],
   "source": [
    "data_munged.head()"
   ]
  },
  {
   "cell_type": "code",
   "execution_count": 125,
   "metadata": {},
   "outputs": [],
   "source": [
    "n_iter = 500\n",
    "\n",
    "columns = ['sample_lvl','sub_sample_lvl','sample_lvl_corrected','sub_sample_lvl_corrected']\n",
    "effect_sizes = pd.DataFrame(data=np.zeros([n_iter,len(columns)]),index=range(n_iter),columns=columns)\n",
    "\n",
    "for n in range(n_iter):\n",
    "    \n",
    "    # Coin-flip on campaign level\n",
    "    data_munged['variant'] = np.random.randint(0,2,size=data_munged.shape[0])\n",
    "    \n",
    "    # Average treatment effect for the samples\n",
    "    sample_metric = data_munged.groupby('variant').mean()['sum_metrics']\n",
    "    sample_metric_cuped = data_munged.groupby('variant').mean()['sample_metrics_cuped']\n",
    "    effect_sizes.iloc[n,0] = (sample_metric[1]-sample_metric[0])/sample_metric[0]\n",
    "    effect_sizes.iloc[n,2] = (sample_metric_cuped[1]-sample_metric_cuped[0])/sample_metric_cuped[0]\n",
    "    \n",
    "    # Average treatment effect for the subsamples\n",
    "    subsample_metric = data_munged.groupby('variant').sum()['sum_metrics']\n",
    "    subsample_metric_cuped = data_munged.groupby('variant').sum()['sub_sample_metrics_cuped_sum']\n",
    "    sum_subsamples = data_munged.groupby('variant').sum()['n_sub_samples']\n",
    "    effect_sizes.iloc[n,1] = ( (subsample_metric[1]/sum_subsamples[1] - \\\n",
    "                              subsample_metric[0]/sum_subsamples[0]) / \\\n",
    "                                (subsample_metric[0]/sum_subsamples[0]) )\n",
    "    effect_sizes.iloc[n,3] = ( (subsample_metric_cuped[1]/sum_subsamples[1] - \\\n",
    "                                subsample_metric_cuped[0]/sum_subsamples[0]) / \\\n",
    "                              (subsample_metric_cuped[0]/sum_subsamples[0]))"
   ]
  },
  {
   "cell_type": "code",
   "execution_count": 126,
   "metadata": {},
   "outputs": [
    {
     "data": {
      "text/html": [
       "<div>\n",
       "<style scoped>\n",
       "    .dataframe tbody tr th:only-of-type {\n",
       "        vertical-align: middle;\n",
       "    }\n",
       "\n",
       "    .dataframe tbody tr th {\n",
       "        vertical-align: top;\n",
       "    }\n",
       "\n",
       "    .dataframe thead th {\n",
       "        text-align: right;\n",
       "    }\n",
       "</style>\n",
       "<table border=\"1\" class=\"dataframe\">\n",
       "  <thead>\n",
       "    <tr style=\"text-align: right;\">\n",
       "      <th></th>\n",
       "      <th>sample_lvl</th>\n",
       "      <th>sub_sample_lvl</th>\n",
       "      <th>sample_lvl_corrected</th>\n",
       "      <th>sub_sample_lvl_corrected</th>\n",
       "    </tr>\n",
       "  </thead>\n",
       "  <tbody>\n",
       "    <tr>\n",
       "      <th>0</th>\n",
       "      <td>-0.004495</td>\n",
       "      <td>-0.003676</td>\n",
       "      <td>-0.008371</td>\n",
       "      <td>-0.008195</td>\n",
       "    </tr>\n",
       "    <tr>\n",
       "      <th>1</th>\n",
       "      <td>-0.108557</td>\n",
       "      <td>-0.096246</td>\n",
       "      <td>0.018762</td>\n",
       "      <td>0.015488</td>\n",
       "    </tr>\n",
       "    <tr>\n",
       "      <th>2</th>\n",
       "      <td>-0.096309</td>\n",
       "      <td>-0.096937</td>\n",
       "      <td>0.010862</td>\n",
       "      <td>0.007297</td>\n",
       "    </tr>\n",
       "    <tr>\n",
       "      <th>3</th>\n",
       "      <td>-0.015553</td>\n",
       "      <td>-0.012496</td>\n",
       "      <td>0.015312</td>\n",
       "      <td>0.014550</td>\n",
       "    </tr>\n",
       "    <tr>\n",
       "      <th>4</th>\n",
       "      <td>0.084369</td>\n",
       "      <td>0.076636</td>\n",
       "      <td>0.004861</td>\n",
       "      <td>0.006755</td>\n",
       "    </tr>\n",
       "  </tbody>\n",
       "</table>\n",
       "</div>"
      ],
      "text/plain": [
       "   sample_lvl  sub_sample_lvl  sample_lvl_corrected  sub_sample_lvl_corrected\n",
       "0   -0.004495       -0.003676             -0.008371                 -0.008195\n",
       "1   -0.108557       -0.096246              0.018762                  0.015488\n",
       "2   -0.096309       -0.096937              0.010862                  0.007297\n",
       "3   -0.015553       -0.012496              0.015312                  0.014550\n",
       "4    0.084369        0.076636              0.004861                  0.006755"
      ]
     },
     "execution_count": 126,
     "metadata": {},
     "output_type": "execute_result"
    }
   ],
   "source": [
    "effect_sizes.head()"
   ]
  },
  {
   "cell_type": "code",
   "execution_count": 127,
   "metadata": {},
   "outputs": [
    {
     "data": {
      "text/plain": [
       "<matplotlib.axes._subplots.AxesSubplot at 0x7f1f1fa0ab70>"
      ]
     },
     "execution_count": 127,
     "metadata": {},
     "output_type": "execute_result"
    },
    {
     "data": {
      "image/png": "[encoded data removed]",
      "text/plain": [
       "<Figure size 432x288 with 1 Axes>"
      ]
     },
     "metadata": {},
     "output_type": "display_data"
    }
   ],
   "source": [
    "# Sample level, uncorrected\n",
    "effect_sizes['sample_lvl'].hist()"
   ]
  },
  {
   "cell_type": "code",
   "execution_count": 128,
   "metadata": {},
   "outputs": [
    {
     "data": {
      "text/plain": [
       "<matplotlib.axes._subplots.AxesSubplot at 0x7f1eacacce48>"
      ]
     },
     "execution_count": 128,
     "metadata": {},
     "output_type": "execute_result"
    },
    {
     "data": {
      "image/png": "[encoded data removed]",
      "text/plain": [
       "<Figure size 432x288 with 1 Axes>"
      ]
     },
     "metadata": {},
     "output_type": "display_data"
    }
   ],
   "source": [
    "# Subsample level, uncorrected\n",
    "effect_sizes['sub_sample_lvl'].hist()"
   ]
  },
  {
   "cell_type": "code",
   "execution_count": 129,
   "metadata": {},
   "outputs": [
    {
     "data": {
      "text/plain": [
       "<matplotlib.axes._subplots.AxesSubplot at 0x7f1ed31eae48>"
      ]
     },
     "execution_count": 129,
     "metadata": {},
     "output_type": "execute_result"
    },
    {
     "data": {
      "image/png": "[encoded data removed]",
      "text/plain": [
       "<Figure size 432x288 with 1 Axes>"
      ]
     },
     "metadata": {},
     "output_type": "display_data"
    }
   ],
   "source": [
    "# Sample level, Cuped-corrected\n",
    "effect_sizes['sample_lvl_corrected'].hist()"
   ]
  },
  {
   "cell_type": "code",
   "execution_count": 130,
   "metadata": {},
   "outputs": [
    {
     "data": {
      "text/plain": [
       "<matplotlib.axes._subplots.AxesSubplot at 0x7f1eacb3df98>"
      ]
     },
     "execution_count": 130,
     "metadata": {},
     "output_type": "execute_result"
    },
    {
     "data": {
      "image/png": "[encoded data removed]",
      "text/plain": [
       "<Figure size 432x288 with 1 Axes>"
      ]
     },
     "metadata": {},
     "output_type": "display_data"
    }
   ],
   "source": [
    "# Subsample level, Cuped-corrected\n",
    "effect_sizes['sub_sample_lvl_corrected'].hist()"
   ]
  },
  {
   "cell_type": "markdown",
   "metadata": {},
   "source": [
    "Conclusion: CUPED definitely helps (but we already knew this). However, there seems to be no difference between evaluating the treatment effect on the sub-samples or on the samples (with the coinflip in both cases on the sample level)..."
   ]
  }
 ],
 "metadata": {
  "kernelspec": {
   "display_name": "Python 3",
   "language": "python",
   "name": "python3"
  },
  "language_info": {
   "codemirror_mode": {
    "name": "ipython",
    "version": 3
   },
   "file_extension": ".py",
   "mimetype": "text/x-python",
   "name": "python",
   "nbconvert_exporter": "python",
   "pygments_lexer": "ipython3",
   "version": "3.6.7"
  }
 },
 "nbformat": 4,
 "nbformat_minor": 2
}
