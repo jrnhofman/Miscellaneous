{
 "cells": [
  {
   "cell_type": "markdown",
   "metadata": {},
   "source": [
    "Problem statement:\n",
    "\n",
    "We have a set of samples which wildly vary in the metric we are trying to optimize for. We do A/B experimentation on these samples where we apply CUPED corrections to the metric to reduce it's variance. However, our samples actually consists of a set of subsamples which we cannot randomize on individually as the intervention only works on the sample level (i.e. the same intervention is always applied to all subsamples of a sample). However, we could try to do the split on A/B on the sample level, but do the evaluation on the subsample level (with corresponding CUPED corrections on this subsample level).\n",
    "\n",
    "In this notebook I hope to prove that for such an approach we can actually reduce the untreated and CUPED-corrected effect sizes in an A/A setting (i.e. the effect size we see in an A/A should be a more narrow distribution around 0 for the subsampling approach versus the sampling one)."
   ]
  },
  {
   "cell_type": "code",
   "execution_count": 1,
   "metadata": {},
   "outputs": [],
   "source": [
    "import pandas as pd\n",
    "import numpy as np\n",
    "import matplotlib.pyplot as plt\n",
    "import seaborn\n",
    "%matplotlib inline"
   ]
  },
  {
   "cell_type": "code",
   "execution_count": 2,
   "metadata": {},
   "outputs": [],
   "source": [
    "# Getting data\n",
    "data = pd.read_csv('experiment_data.csv')"
   ]
  },
  {
   "cell_type": "code",
   "execution_count": 3,
   "metadata": {},
   "outputs": [
    {
     "data": {
      "text/html": [
       "<div>\n",
       "<style scoped>\n",
       "    .dataframe tbody tr th:only-of-type {\n",
       "        vertical-align: middle;\n",
       "    }\n",
       "\n",
       "    .dataframe tbody tr th {\n",
       "        vertical-align: top;\n",
       "    }\n",
       "\n",
       "    .dataframe thead th {\n",
       "        text-align: right;\n",
       "    }\n",
       "</style>\n",
       "<table border=\"1\" class=\"dataframe\">\n",
       "  <thead>\n",
       "    <tr style=\"text-align: right;\">\n",
       "      <th></th>\n",
       "      <th>identifier</th>\n",
       "      <th>n_sub_identifiers</th>\n",
       "      <th>covariates</th>\n",
       "      <th>metrics</th>\n",
       "    </tr>\n",
       "  </thead>\n",
       "  <tbody>\n",
       "    <tr>\n",
       "      <th>0</th>\n",
       "      <td>15467721</td>\n",
       "      <td>175</td>\n",
       "      <td>[0, 0, 0, 0, 0, 0, 0, 0, 0, 0, 0, 0, 0, 4, 0, ...</td>\n",
       "      <td>[0, 0, 0, 0, 0, 0, 0, 0, 0, 0, 0, 1, 0, 5, 0, ...</td>\n",
       "    </tr>\n",
       "    <tr>\n",
       "      <th>1</th>\n",
       "      <td>15467841</td>\n",
       "      <td>8</td>\n",
       "      <td>[4, 0, 0, 0, 0, 0, 0, 0]</td>\n",
       "      <td>[8, 0, 0, 0, 0, 0, 0, 0]</td>\n",
       "    </tr>\n",
       "    <tr>\n",
       "      <th>2</th>\n",
       "      <td>15916026</td>\n",
       "      <td>96</td>\n",
       "      <td>[0, 0, 0, 0, 0, 0, 0, 0, 0, 0, 0, 0, 0, 0, 0, ...</td>\n",
       "      <td>[0, 0, 0, 0, 0, 0, 0, 0, 0, 0, 0, 0, 0, 0, 0, ...</td>\n",
       "    </tr>\n",
       "    <tr>\n",
       "      <th>3</th>\n",
       "      <td>15928806</td>\n",
       "      <td>24</td>\n",
       "      <td>[0, 0, 0, 4, 0, 0, 0, 0, 0, 0, 0, 1, 1, 5, 0, ...</td>\n",
       "      <td>[0, 0, 0, 0, 0, 0, 0, 0, 0, 0, 0, 0, 0, 1, 0, ...</td>\n",
       "    </tr>\n",
       "    <tr>\n",
       "      <th>4</th>\n",
       "      <td>16041186</td>\n",
       "      <td>213</td>\n",
       "      <td>[0, 0, 0, 0, 0, 2, 6, 0, 0, 1, 0, 0, 0, 0, 0, ...</td>\n",
       "      <td>[0, 0, 0, 0, 0, 0, 3, 0, 1, 0, 0, 1, 0, 0, 0, ...</td>\n",
       "    </tr>\n",
       "  </tbody>\n",
       "</table>\n",
       "</div>"
      ],
      "text/plain": [
       "   identifier  n_sub_identifiers  \\\n",
       "0    15467721                175   \n",
       "1    15467841                  8   \n",
       "2    15916026                 96   \n",
       "3    15928806                 24   \n",
       "4    16041186                213   \n",
       "\n",
       "                                          covariates  \\\n",
       "0  [0, 0, 0, 0, 0, 0, 0, 0, 0, 0, 0, 0, 0, 4, 0, ...   \n",
       "1                           [4, 0, 0, 0, 0, 0, 0, 0]   \n",
       "2  [0, 0, 0, 0, 0, 0, 0, 0, 0, 0, 0, 0, 0, 0, 0, ...   \n",
       "3  [0, 0, 0, 4, 0, 0, 0, 0, 0, 0, 0, 1, 1, 5, 0, ...   \n",
       "4  [0, 0, 0, 0, 0, 2, 6, 0, 0, 1, 0, 0, 0, 0, 0, ...   \n",
       "\n",
       "                                             metrics  \n",
       "0  [0, 0, 0, 0, 0, 0, 0, 0, 0, 0, 0, 1, 0, 5, 0, ...  \n",
       "1                           [8, 0, 0, 0, 0, 0, 0, 0]  \n",
       "2  [0, 0, 0, 0, 0, 0, 0, 0, 0, 0, 0, 0, 0, 0, 0, ...  \n",
       "3  [0, 0, 0, 0, 0, 0, 0, 0, 0, 0, 0, 0, 0, 1, 0, ...  \n",
       "4  [0, 0, 0, 0, 0, 0, 3, 0, 1, 0, 0, 1, 0, 0, 0, ...  "
      ]
     },
     "execution_count": 3,
     "metadata": {},
     "output_type": "execute_result"
    }
   ],
   "source": [
    "data.head()"
   ]
  },
  {
   "cell_type": "markdown",
   "metadata": {},
   "source": [
    "Explanation of columns:\n",
    "\n",
    "- identifier: unique sample ID\n",
    "- n_sub_identifiers: number of subsamples per sample\n",
    "- metrics: the metric of interest per subsample, collected during the experiment period\n",
    "- covariates: the covariate for CUPED corrections per subsample, this is the metric collected in the pre-experiment period"
   ]
  },
  {
   "cell_type": "code",
   "execution_count": 4,
   "metadata": {},
   "outputs": [
    {
     "data": {
      "text/plain": [
       "164870"
      ]
     },
     "execution_count": 4,
     "metadata": {},
     "output_type": "execute_result"
    }
   ],
   "source": [
    "data.shape[0]"
   ]
  },
  {
   "cell_type": "code",
   "execution_count": 5,
   "metadata": {},
   "outputs": [
    {
     "data": {
      "text/plain": [
       "identifier            int64\n",
       "n_sub_identifiers     int64\n",
       "covariates           object\n",
       "metrics              object\n",
       "dtype: object"
      ]
     },
     "execution_count": 5,
     "metadata": {},
     "output_type": "execute_result"
    }
   ],
   "source": [
    "data.dtypes"
   ]
  },
  {
   "cell_type": "code",
   "execution_count": 6,
   "metadata": {},
   "outputs": [
    {
     "data": {
      "text/plain": [
       "identifier           0\n",
       "n_sub_identifiers    0\n",
       "covariates           0\n",
       "metrics              0\n",
       "dtype: int64"
      ]
     },
     "execution_count": 6,
     "metadata": {},
     "output_type": "execute_result"
    }
   ],
   "source": [
    "data.isnull().sum()"
   ]
  },
  {
   "cell_type": "code",
   "execution_count": 41,
   "metadata": {},
   "outputs": [
    {
     "data": {
      "text/html": [
       "<div>\n",
       "<style scoped>\n",
       "    .dataframe tbody tr th:only-of-type {\n",
       "        vertical-align: middle;\n",
       "    }\n",
       "\n",
       "    .dataframe tbody tr th {\n",
       "        vertical-align: top;\n",
       "    }\n",
       "\n",
       "    .dataframe thead th {\n",
       "        text-align: right;\n",
       "    }\n",
       "</style>\n",
       "<table border=\"1\" class=\"dataframe\">\n",
       "  <thead>\n",
       "    <tr style=\"text-align: right;\">\n",
       "      <th></th>\n",
       "      <th>sample</th>\n",
       "      <th>n_sub_samples</th>\n",
       "      <th>covariates</th>\n",
       "      <th>metrics</th>\n",
       "      <th>sum_covariates</th>\n",
       "      <th>sum_metrics</th>\n",
       "    </tr>\n",
       "  </thead>\n",
       "  <tbody>\n",
       "    <tr>\n",
       "      <th>0</th>\n",
       "      <td>0</td>\n",
       "      <td>175</td>\n",
       "      <td>[0, 0, 0, 0, 0, 0, 0, 0, 0, 0, 0, 0, 0, 4, 0, ...</td>\n",
       "      <td>[0, 0, 0, 0, 0, 0, 0, 0, 0, 0, 0, 1, 0, 5, 0, ...</td>\n",
       "      <td>127</td>\n",
       "      <td>137</td>\n",
       "    </tr>\n",
       "    <tr>\n",
       "      <th>1</th>\n",
       "      <td>1</td>\n",
       "      <td>8</td>\n",
       "      <td>[4, 0, 0, 0, 0, 0, 0, 0]</td>\n",
       "      <td>[8, 0, 0, 0, 0, 0, 0, 0]</td>\n",
       "      <td>4</td>\n",
       "      <td>8</td>\n",
       "    </tr>\n",
       "    <tr>\n",
       "      <th>2</th>\n",
       "      <td>2</td>\n",
       "      <td>96</td>\n",
       "      <td>[0, 0, 0, 0, 0, 0, 0, 0, 0, 0, 0, 0, 0, 0, 0, ...</td>\n",
       "      <td>[0, 0, 0, 0, 0, 0, 0, 0, 0, 0, 0, 0, 0, 0, 0, ...</td>\n",
       "      <td>19</td>\n",
       "      <td>24</td>\n",
       "    </tr>\n",
       "    <tr>\n",
       "      <th>3</th>\n",
       "      <td>3</td>\n",
       "      <td>24</td>\n",
       "      <td>[0, 0, 0, 4, 0, 0, 0, 0, 0, 0, 0, 1, 1, 5, 0, ...</td>\n",
       "      <td>[0, 0, 0, 0, 0, 0, 0, 0, 0, 0, 0, 0, 0, 1, 0, ...</td>\n",
       "      <td>12</td>\n",
       "      <td>1</td>\n",
       "    </tr>\n",
       "    <tr>\n",
       "      <th>4</th>\n",
       "      <td>4</td>\n",
       "      <td>213</td>\n",
       "      <td>[0, 0, 0, 0, 0, 2, 6, 0, 0, 1, 0, 0, 0, 0, 0, ...</td>\n",
       "      <td>[0, 0, 0, 0, 0, 0, 3, 0, 1, 0, 0, 1, 0, 0, 0, ...</td>\n",
       "      <td>166</td>\n",
       "      <td>123</td>\n",
       "    </tr>\n",
       "  </tbody>\n",
       "</table>\n",
       "</div>"
      ],
      "text/plain": [
       "   sample  n_sub_samples                                         covariates  \\\n",
       "0       0            175  [0, 0, 0, 0, 0, 0, 0, 0, 0, 0, 0, 0, 0, 4, 0, ...   \n",
       "1       1              8                           [4, 0, 0, 0, 0, 0, 0, 0]   \n",
       "2       2             96  [0, 0, 0, 0, 0, 0, 0, 0, 0, 0, 0, 0, 0, 0, 0, ...   \n",
       "3       3             24  [0, 0, 0, 4, 0, 0, 0, 0, 0, 0, 0, 1, 1, 5, 0, ...   \n",
       "4       4            213  [0, 0, 0, 0, 0, 2, 6, 0, 0, 1, 0, 0, 0, 0, 0, ...   \n",
       "\n",
       "                                             metrics  sum_covariates  \\\n",
       "0  [0, 0, 0, 0, 0, 0, 0, 0, 0, 0, 0, 1, 0, 5, 0, ...             127   \n",
       "1                           [8, 0, 0, 0, 0, 0, 0, 0]               4   \n",
       "2  [0, 0, 0, 0, 0, 0, 0, 0, 0, 0, 0, 0, 0, 0, 0, ...              19   \n",
       "3  [0, 0, 0, 0, 0, 0, 0, 0, 0, 0, 0, 0, 0, 1, 0, ...              12   \n",
       "4  [0, 0, 0, 0, 0, 0, 3, 0, 1, 0, 0, 1, 0, 0, 0, ...             166   \n",
       "\n",
       "   sum_metrics  \n",
       "0          137  \n",
       "1            8  \n",
       "2           24  \n",
       "3            1  \n",
       "4          123  "
      ]
     },
     "execution_count": 41,
     "metadata": {},
     "output_type": "execute_result"
    }
   ],
   "source": [
    "# Small data-munging\n",
    "tmp = data.drop('identifier',axis=1).reset_index()\n",
    "tmp = tmp.rename(columns={'index' : 'sample', 'n_sub_identifiers' : 'n_sub_samples'})\n",
    "# This is ridiculous but okay, need to cast the 'string of array' to an np.array\n",
    "tmp['covariates'] = tmp['covariates'].apply( lambda x: np.array([int(y) for y in x.strip('[]').split(',')]) )\n",
    "tmp['metrics'] = tmp['metrics'].apply(lambda x: np.array([int(y) for y in x.strip('[]').split(',')]) )\n",
    "tmp['sum_covariates'] = tmp['covariates'].apply(lambda x: np.sum(x))\n",
    "tmp['sum_metrics'] = tmp['metrics'].apply(lambda x: np.sum(x))\n",
    "data_munged = tmp\n",
    "data_munged.head()"
   ]
  },
  {
   "cell_type": "code",
   "execution_count": null,
   "metadata": {},
   "outputs": [],
   "source": []
  },
  {
   "cell_type": "code",
   "execution_count": null,
   "metadata": {},
   "outputs": [],
   "source": []
  }
 ],
 "metadata": {
  "kernelspec": {
   "display_name": "Python 3",
   "language": "python",
   "name": "python3"
  },
  "language_info": {
   "codemirror_mode": {
    "name": "ipython",
    "version": 3
   },
   "file_extension": ".py",
   "mimetype": "text/x-python",
   "name": "python",
   "nbconvert_exporter": "python",
   "pygments_lexer": "ipython3",
   "version": "3.6.7"
  }
 },
 "nbformat": 4,
 "nbformat_minor": 2
}
