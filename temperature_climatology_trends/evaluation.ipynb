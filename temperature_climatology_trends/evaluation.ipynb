{
 "cells": [
  {
   "cell_type": "markdown",
   "metadata": {},
   "source": [
    "# Temperature trend evaluation\n",
    "\n",
    "Since I have an interest in weather and climatology related phenomena, I've decided to do a small analysis of temperature trends. I'm using data from KNMI at it's base station 'De Bilt' as reference data. Data contains daily temperature (and other) data starting in 1901. It is now May 2020, and at the end of the year the KNMI will come up with new climate normals, as those are reset every 10 years. The last batch is from 1981 - 2010. This is a very simple exercise but purely doing it out of my own interest, I will answer the questions:\n",
    "\n",
    "- What will be the new normals for the 1991 - 2020 period (discarding the period of May 2020 - December 2020, as this hasn't happened yet) and is this difference statistically significant from other climate periods?\n",
    "- Can we already say something about the last 10 years, i.e. the period of 2010 - 2019 (which have seen significant warming and change in weather temperatures in the NL, see for example: https://www.knmi.nl/over-het-knmi/nieuws/zonnige-maand-past-in-trend-voorjaar)\n",
    "- Following the link posted above, can we say anything significant about weather pattern changes (mainly sunshine hours and precipitation) in early spring? (For non-Dutch speakers, it basically claims the spring has become more sunnier and drier over the last years, showcasing trends)."
   ]
  },
  {
   "cell_type": "code",
   "execution_count": 1,
   "metadata": {},
   "outputs": [],
   "source": [
    "import pandas as pd\n",
    "import numpy as np\n",
    "import matplotlib.pyplot as plt\n",
    "import seaborn as sns\n",
    "from datetime import datetime"
   ]
  },
  {
   "cell_type": "code",
   "execution_count": 2,
   "metadata": {},
   "outputs": [],
   "source": [
    "# Get data, available from here: https://cdn.knmi.nl/knmi/map/page/klimatologie/gegevens/daggegevens/etmgeg_260.zip\n",
    "daily_data = pd.read_csv(\"etmgeg_260.txt\",sep=\",\",header=0,skiprows=list(range(47)),skipinitialspace=True)"
   ]
  },
  {
   "cell_type": "code",
   "execution_count": 3,
   "metadata": {},
   "outputs": [
    {
     "output_type": "execute_result",
     "data": {
      "text/plain": "       # STN  YYYYMMDD  DDVEC  FHVEC    FG   FHX  FHXH   FHN  FHNH    FXX  \\\n0        260  19010101    NaN    NaN   NaN   NaN   NaN   NaN   NaN    NaN   \n1        260  19010102    NaN    NaN   NaN   NaN   NaN   NaN   NaN    NaN   \n2        260  19010103    NaN    NaN   NaN   NaN   NaN   NaN   NaN    NaN   \n3        260  19010104    NaN    NaN   NaN   NaN   NaN   NaN   NaN    NaN   \n4        260  19010105    NaN    NaN   NaN   NaN   NaN   NaN   NaN    NaN   \n...      ...       ...    ...    ...   ...   ...   ...   ...   ...    ...   \n43584    260  20200430  199.0   44.0  48.0  70.0   8.0  30.0   4.0  140.0   \n43585    260  20200501  231.0   37.0  43.0  70.0  11.0  20.0  20.0  140.0   \n43586    260  20200502  272.0   31.0  34.0  50.0  10.0  20.0   6.0  110.0   \n43587    260  20200503  281.0    3.0  17.0  30.0  14.0  10.0   4.0   70.0   \n43588    260  20200504   29.0   37.0  38.0  50.0   8.0  10.0   1.0  100.0   \n\n       ...  VVNH   VVX  VVXH   NG    UG    UX   UXH    UN   UNH  EV24  \n0      ...   NaN   NaN   NaN  NaN  66.0   NaN   NaN   NaN   NaN   NaN  \n1      ...   NaN   NaN   NaN  NaN  86.0   NaN   NaN   NaN   NaN   NaN  \n2      ...   NaN   NaN   NaN  NaN  89.0   NaN   NaN   NaN   NaN   NaN  \n3      ...   NaN   NaN   NaN  NaN  79.0   NaN   NaN   NaN   NaN   NaN  \n4      ...   NaN   NaN   NaN  NaN  65.0   NaN   NaN   NaN   NaN   NaN  \n...    ...   ...   ...   ...  ...   ...   ...   ...   ...   ...   ...  \n43584  ...  20.0  83.0  18.0  7.0  70.0  90.0   6.0  40.0  15.0  24.0  \n43585  ...   9.0  81.0  15.0  7.0  77.0  88.0   9.0  57.0  16.0  18.0  \n43586  ...  24.0  81.0  13.0  6.0  77.0  97.0  24.0  62.0  13.0  21.0  \n43587  ...   4.0  83.0  17.0  7.0  80.0  99.0   2.0  49.0  13.0  21.0  \n43588  ...   2.0  83.0  19.0  3.0  71.0  95.0   1.0  52.0  14.0  37.0  \n\n[43589 rows x 41 columns]",
      "text/html": "<div>\n<style scoped>\n    .dataframe tbody tr th:only-of-type {\n        vertical-align: middle;\n    }\n\n    .dataframe tbody tr th {\n        vertical-align: top;\n    }\n\n    .dataframe thead th {\n        text-align: right;\n    }\n</style>\n<table border=\"1\" class=\"dataframe\">\n  <thead>\n    <tr style=\"text-align: right;\">\n      <th></th>\n      <th># STN</th>\n      <th>YYYYMMDD</th>\n      <th>DDVEC</th>\n      <th>FHVEC</th>\n      <th>FG</th>\n      <th>FHX</th>\n      <th>FHXH</th>\n      <th>FHN</th>\n      <th>FHNH</th>\n      <th>FXX</th>\n      <th>...</th>\n      <th>VVNH</th>\n      <th>VVX</th>\n      <th>VVXH</th>\n      <th>NG</th>\n      <th>UG</th>\n      <th>UX</th>\n      <th>UXH</th>\n      <th>UN</th>\n      <th>UNH</th>\n      <th>EV24</th>\n    </tr>\n  </thead>\n  <tbody>\n    <tr>\n      <th>0</th>\n      <td>260</td>\n      <td>19010101</td>\n      <td>NaN</td>\n      <td>NaN</td>\n      <td>NaN</td>\n      <td>NaN</td>\n      <td>NaN</td>\n      <td>NaN</td>\n      <td>NaN</td>\n      <td>NaN</td>\n      <td>...</td>\n      <td>NaN</td>\n      <td>NaN</td>\n      <td>NaN</td>\n      <td>NaN</td>\n      <td>66.0</td>\n      <td>NaN</td>\n      <td>NaN</td>\n      <td>NaN</td>\n      <td>NaN</td>\n      <td>NaN</td>\n    </tr>\n    <tr>\n      <th>1</th>\n      <td>260</td>\n      <td>19010102</td>\n      <td>NaN</td>\n      <td>NaN</td>\n      <td>NaN</td>\n      <td>NaN</td>\n      <td>NaN</td>\n      <td>NaN</td>\n      <td>NaN</td>\n      <td>NaN</td>\n      <td>...</td>\n      <td>NaN</td>\n      <td>NaN</td>\n      <td>NaN</td>\n      <td>NaN</td>\n      <td>86.0</td>\n      <td>NaN</td>\n      <td>NaN</td>\n      <td>NaN</td>\n      <td>NaN</td>\n      <td>NaN</td>\n    </tr>\n    <tr>\n      <th>2</th>\n      <td>260</td>\n      <td>19010103</td>\n      <td>NaN</td>\n      <td>NaN</td>\n      <td>NaN</td>\n      <td>NaN</td>\n      <td>NaN</td>\n      <td>NaN</td>\n      <td>NaN</td>\n      <td>NaN</td>\n      <td>...</td>\n      <td>NaN</td>\n      <td>NaN</td>\n      <td>NaN</td>\n      <td>NaN</td>\n      <td>89.0</td>\n      <td>NaN</td>\n      <td>NaN</td>\n      <td>NaN</td>\n      <td>NaN</td>\n      <td>NaN</td>\n    </tr>\n    <tr>\n      <th>3</th>\n      <td>260</td>\n      <td>19010104</td>\n      <td>NaN</td>\n      <td>NaN</td>\n      <td>NaN</td>\n      <td>NaN</td>\n      <td>NaN</td>\n      <td>NaN</td>\n      <td>NaN</td>\n      <td>NaN</td>\n      <td>...</td>\n      <td>NaN</td>\n      <td>NaN</td>\n      <td>NaN</td>\n      <td>NaN</td>\n      <td>79.0</td>\n      <td>NaN</td>\n      <td>NaN</td>\n      <td>NaN</td>\n      <td>NaN</td>\n      <td>NaN</td>\n    </tr>\n    <tr>\n      <th>4</th>\n      <td>260</td>\n      <td>19010105</td>\n      <td>NaN</td>\n      <td>NaN</td>\n      <td>NaN</td>\n      <td>NaN</td>\n      <td>NaN</td>\n      <td>NaN</td>\n      <td>NaN</td>\n      <td>NaN</td>\n      <td>...</td>\n      <td>NaN</td>\n      <td>NaN</td>\n      <td>NaN</td>\n      <td>NaN</td>\n      <td>65.0</td>\n      <td>NaN</td>\n      <td>NaN</td>\n      <td>NaN</td>\n      <td>NaN</td>\n      <td>NaN</td>\n    </tr>\n    <tr>\n      <th>...</th>\n      <td>...</td>\n      <td>...</td>\n      <td>...</td>\n      <td>...</td>\n      <td>...</td>\n      <td>...</td>\n      <td>...</td>\n      <td>...</td>\n      <td>...</td>\n      <td>...</td>\n      <td>...</td>\n      <td>...</td>\n      <td>...</td>\n      <td>...</td>\n      <td>...</td>\n      <td>...</td>\n      <td>...</td>\n      <td>...</td>\n      <td>...</td>\n      <td>...</td>\n      <td>...</td>\n    </tr>\n    <tr>\n      <th>43584</th>\n      <td>260</td>\n      <td>20200430</td>\n      <td>199.0</td>\n      <td>44.0</td>\n      <td>48.0</td>\n      <td>70.0</td>\n      <td>8.0</td>\n      <td>30.0</td>\n      <td>4.0</td>\n      <td>140.0</td>\n      <td>...</td>\n      <td>20.0</td>\n      <td>83.0</td>\n      <td>18.0</td>\n      <td>7.0</td>\n      <td>70.0</td>\n      <td>90.0</td>\n      <td>6.0</td>\n      <td>40.0</td>\n      <td>15.0</td>\n      <td>24.0</td>\n    </tr>\n    <tr>\n      <th>43585</th>\n      <td>260</td>\n      <td>20200501</td>\n      <td>231.0</td>\n      <td>37.0</td>\n      <td>43.0</td>\n      <td>70.0</td>\n      <td>11.0</td>\n      <td>20.0</td>\n      <td>20.0</td>\n      <td>140.0</td>\n      <td>...</td>\n      <td>9.0</td>\n      <td>81.0</td>\n      <td>15.0</td>\n      <td>7.0</td>\n      <td>77.0</td>\n      <td>88.0</td>\n      <td>9.0</td>\n      <td>57.0</td>\n      <td>16.0</td>\n      <td>18.0</td>\n    </tr>\n    <tr>\n      <th>43586</th>\n      <td>260</td>\n      <td>20200502</td>\n      <td>272.0</td>\n      <td>31.0</td>\n      <td>34.0</td>\n      <td>50.0</td>\n      <td>10.0</td>\n      <td>20.0</td>\n      <td>6.0</td>\n      <td>110.0</td>\n      <td>...</td>\n      <td>24.0</td>\n      <td>81.0</td>\n      <td>13.0</td>\n      <td>6.0</td>\n      <td>77.0</td>\n      <td>97.0</td>\n      <td>24.0</td>\n      <td>62.0</td>\n      <td>13.0</td>\n      <td>21.0</td>\n    </tr>\n    <tr>\n      <th>43587</th>\n      <td>260</td>\n      <td>20200503</td>\n      <td>281.0</td>\n      <td>3.0</td>\n      <td>17.0</td>\n      <td>30.0</td>\n      <td>14.0</td>\n      <td>10.0</td>\n      <td>4.0</td>\n      <td>70.0</td>\n      <td>...</td>\n      <td>4.0</td>\n      <td>83.0</td>\n      <td>17.0</td>\n      <td>7.0</td>\n      <td>80.0</td>\n      <td>99.0</td>\n      <td>2.0</td>\n      <td>49.0</td>\n      <td>13.0</td>\n      <td>21.0</td>\n    </tr>\n    <tr>\n      <th>43588</th>\n      <td>260</td>\n      <td>20200504</td>\n      <td>29.0</td>\n      <td>37.0</td>\n      <td>38.0</td>\n      <td>50.0</td>\n      <td>8.0</td>\n      <td>10.0</td>\n      <td>1.0</td>\n      <td>100.0</td>\n      <td>...</td>\n      <td>2.0</td>\n      <td>83.0</td>\n      <td>19.0</td>\n      <td>3.0</td>\n      <td>71.0</td>\n      <td>95.0</td>\n      <td>1.0</td>\n      <td>52.0</td>\n      <td>14.0</td>\n      <td>37.0</td>\n    </tr>\n  </tbody>\n</table>\n<p>43589 rows × 41 columns</p>\n</div>"
     },
     "metadata": {},
     "execution_count": 3
    }
   ],
   "source": [
    "daily_data"
   ]
  },
  {
   "cell_type": "code",
   "execution_count": 4,
   "metadata": {},
   "outputs": [],
   "source": [
    "# quick preprocessing; selecting relevant fields only and creating a datetime column\n",
    "df = daily_data[['YYYYMMDD', 'TG', 'SQ', 'SP', 'DR', 'RH']]\n",
    "\n",
    "mapper = {\n",
    "    'YYYYMMDD' : 'DATE',\n",
    "    'TG' : 'Temperature', #Daily mean temperature, in 0.1 degrees\n",
    "    'SQ' : 'Sunshine_hours', #Daily hours of sunshine, in 0.1 hours\n",
    "    'SP' : 'Sunshine_perc', #Daily percentage of sunshine hours compared to total day-length (varies per day)\n",
    "    'DR' : 'Precipation_duration', #Duration of precipation per day in 0.1 hour\n",
    "    'RH' : 'Precipation_amount' #Amount of precipatition in 0.1 mm\n",
    "}\n",
    "\n",
    "df = df.rename(mapper=mapper, axis=1)\n",
    "df.index = pd.to_datetime(df['DATE'].astype(str), format='%Y%m%d')\n",
    "df = df.drop(\"DATE\", axis=1)"
   ]
  },
  {
   "cell_type": "code",
   "execution_count": 5,
   "metadata": {},
   "outputs": [
    {
     "output_type": "execute_result",
     "data": {
      "text/plain": "            Temperature  Sunshine_hours  Sunshine_perc  Precipation_duration  \\\nDATE                                                                           \n1901-01-01          -49            28.0           36.0                   NaN   \n1901-01-02          -18             0.0            0.0                   NaN   \n1901-01-03          -26             0.0            0.0                   NaN   \n1901-01-04          -65             0.0            0.0                   NaN   \n1901-01-05          -60            36.0           46.0                   NaN   \n\n            Precipation_amount  \nDATE                            \n1901-01-01                 NaN  \n1901-01-02                 NaN  \n1901-01-03                 NaN  \n1901-01-04                 NaN  \n1901-01-05                 NaN  ",
      "text/html": "<div>\n<style scoped>\n    .dataframe tbody tr th:only-of-type {\n        vertical-align: middle;\n    }\n\n    .dataframe tbody tr th {\n        vertical-align: top;\n    }\n\n    .dataframe thead th {\n        text-align: right;\n    }\n</style>\n<table border=\"1\" class=\"dataframe\">\n  <thead>\n    <tr style=\"text-align: right;\">\n      <th></th>\n      <th>Temperature</th>\n      <th>Sunshine_hours</th>\n      <th>Sunshine_perc</th>\n      <th>Precipation_duration</th>\n      <th>Precipation_amount</th>\n    </tr>\n    <tr>\n      <th>DATE</th>\n      <th></th>\n      <th></th>\n      <th></th>\n      <th></th>\n      <th></th>\n    </tr>\n  </thead>\n  <tbody>\n    <tr>\n      <th>1901-01-01</th>\n      <td>-49</td>\n      <td>28.0</td>\n      <td>36.0</td>\n      <td>NaN</td>\n      <td>NaN</td>\n    </tr>\n    <tr>\n      <th>1901-01-02</th>\n      <td>-18</td>\n      <td>0.0</td>\n      <td>0.0</td>\n      <td>NaN</td>\n      <td>NaN</td>\n    </tr>\n    <tr>\n      <th>1901-01-03</th>\n      <td>-26</td>\n      <td>0.0</td>\n      <td>0.0</td>\n      <td>NaN</td>\n      <td>NaN</td>\n    </tr>\n    <tr>\n      <th>1901-01-04</th>\n      <td>-65</td>\n      <td>0.0</td>\n      <td>0.0</td>\n      <td>NaN</td>\n      <td>NaN</td>\n    </tr>\n    <tr>\n      <th>1901-01-05</th>\n      <td>-60</td>\n      <td>36.0</td>\n      <td>46.0</td>\n      <td>NaN</td>\n      <td>NaN</td>\n    </tr>\n  </tbody>\n</table>\n</div>"
     },
     "metadata": {},
     "execution_count": 5
    }
   ],
   "source": [
    "df.head()"
   ]
  },
  {
   "cell_type": "markdown",
   "metadata": {},
   "source": [
    "### Completeness of timeseries"
   ]
  },
  {
   "cell_type": "code",
   "execution_count": 6,
   "metadata": {},
   "outputs": [
    {
     "output_type": "stream",
     "name": "stdout",
     "text": "(43589, 5)\n"
    }
   ],
   "source": [
    "print(df.shape)\n",
    "\n",
    "diff_days = df.index.values[-1] - df.index.values[0]\n",
    "diff_days = diff_days/np.timedelta64(1,'D')\n",
    "\n",
    "assert df.shape[0] == diff_days + 1, \"Days are missing!\""
   ]
  },
  {
   "cell_type": "markdown",
   "metadata": {},
   "source": [
    "### Missing values"
   ]
  },
  {
   "cell_type": "code",
   "execution_count": 7,
   "metadata": {},
   "outputs": [
    {
     "output_type": "execute_result",
     "data": {
      "text/plain": "Temperature                 0\nSunshine_hours             30\nSunshine_perc              30\nPrecipation_duration    10622\nPrecipation_amount       1856\ndtype: int64"
     },
     "metadata": {},
     "execution_count": 7
    }
   ],
   "source": [
    "df.isnull().sum()"
   ]
  },
  {
   "cell_type": "code",
   "execution_count": 8,
   "metadata": {},
   "outputs": [
    {
     "output_type": "execute_result",
     "data": {
      "text/plain": "            Temperature  Sunshine_hours  Sunshine_perc  Precipation_duration  \\\nDATE                                                                           \n1901-01-01          -49            28.0           36.0                   NaN   \n1901-01-02          -18             0.0            0.0                   NaN   \n1901-01-03          -26             0.0            0.0                   NaN   \n1901-01-04          -65             0.0            0.0                   NaN   \n1901-01-05          -60            36.0           46.0                   NaN   \n...                 ...             ...            ...                   ...   \n1945-04-26          130             NaN            NaN                   NaN   \n1945-04-27           94             NaN            NaN                   NaN   \n1945-04-28           63             NaN            NaN                   NaN   \n1945-04-29           46             NaN            NaN                   NaN   \n1945-04-30           46             NaN            NaN                   NaN   \n\n            Precipation_amount  \nDATE                            \n1901-01-01                 NaN  \n1901-01-02                 NaN  \n1901-01-03                 NaN  \n1901-01-04                 NaN  \n1901-01-05                 NaN  \n...                        ...  \n1945-04-26                 NaN  \n1945-04-27                 NaN  \n1945-04-28                 NaN  \n1945-04-29                 NaN  \n1945-04-30                 NaN  \n\n[1856 rows x 5 columns]",
      "text/html": "<div>\n<style scoped>\n    .dataframe tbody tr th:only-of-type {\n        vertical-align: middle;\n    }\n\n    .dataframe tbody tr th {\n        vertical-align: top;\n    }\n\n    .dataframe thead th {\n        text-align: right;\n    }\n</style>\n<table border=\"1\" class=\"dataframe\">\n  <thead>\n    <tr style=\"text-align: right;\">\n      <th></th>\n      <th>Temperature</th>\n      <th>Sunshine_hours</th>\n      <th>Sunshine_perc</th>\n      <th>Precipation_duration</th>\n      <th>Precipation_amount</th>\n    </tr>\n    <tr>\n      <th>DATE</th>\n      <th></th>\n      <th></th>\n      <th></th>\n      <th></th>\n      <th></th>\n    </tr>\n  </thead>\n  <tbody>\n    <tr>\n      <th>1901-01-01</th>\n      <td>-49</td>\n      <td>28.0</td>\n      <td>36.0</td>\n      <td>NaN</td>\n      <td>NaN</td>\n    </tr>\n    <tr>\n      <th>1901-01-02</th>\n      <td>-18</td>\n      <td>0.0</td>\n      <td>0.0</td>\n      <td>NaN</td>\n      <td>NaN</td>\n    </tr>\n    <tr>\n      <th>1901-01-03</th>\n      <td>-26</td>\n      <td>0.0</td>\n      <td>0.0</td>\n      <td>NaN</td>\n      <td>NaN</td>\n    </tr>\n    <tr>\n      <th>1901-01-04</th>\n      <td>-65</td>\n      <td>0.0</td>\n      <td>0.0</td>\n      <td>NaN</td>\n      <td>NaN</td>\n    </tr>\n    <tr>\n      <th>1901-01-05</th>\n      <td>-60</td>\n      <td>36.0</td>\n      <td>46.0</td>\n      <td>NaN</td>\n      <td>NaN</td>\n    </tr>\n    <tr>\n      <th>...</th>\n      <td>...</td>\n      <td>...</td>\n      <td>...</td>\n      <td>...</td>\n      <td>...</td>\n    </tr>\n    <tr>\n      <th>1945-04-26</th>\n      <td>130</td>\n      <td>NaN</td>\n      <td>NaN</td>\n      <td>NaN</td>\n      <td>NaN</td>\n    </tr>\n    <tr>\n      <th>1945-04-27</th>\n      <td>94</td>\n      <td>NaN</td>\n      <td>NaN</td>\n      <td>NaN</td>\n      <td>NaN</td>\n    </tr>\n    <tr>\n      <th>1945-04-28</th>\n      <td>63</td>\n      <td>NaN</td>\n      <td>NaN</td>\n      <td>NaN</td>\n      <td>NaN</td>\n    </tr>\n    <tr>\n      <th>1945-04-29</th>\n      <td>46</td>\n      <td>NaN</td>\n      <td>NaN</td>\n      <td>NaN</td>\n      <td>NaN</td>\n    </tr>\n    <tr>\n      <th>1945-04-30</th>\n      <td>46</td>\n      <td>NaN</td>\n      <td>NaN</td>\n      <td>NaN</td>\n      <td>NaN</td>\n    </tr>\n  </tbody>\n</table>\n<p>1856 rows × 5 columns</p>\n</div>"
     },
     "metadata": {},
     "execution_count": 8
    }
   ],
   "source": [
    "df[df.Precipation_amount.isnull()]"
   ]
  },
  {
   "cell_type": "code",
   "execution_count": 9,
   "metadata": {},
   "outputs": [
    {
     "output_type": "execute_result",
     "data": {
      "text/plain": "            Temperature  Sunshine_hours  Sunshine_perc  Precipation_duration  \\\nDATE                                                                           \n1901-01-01          -49            28.0           36.0                   NaN   \n1901-01-02          -18             0.0            0.0                   NaN   \n1901-01-03          -26             0.0            0.0                   NaN   \n1901-01-04          -65             0.0            0.0                   NaN   \n1901-01-05          -60            36.0           46.0                   NaN   \n...                 ...             ...            ...                   ...   \n1945-04-26          130             NaN            NaN                   NaN   \n1945-04-27           94             NaN            NaN                   NaN   \n1945-04-28           63             NaN            NaN                   NaN   \n1945-04-29           46             NaN            NaN                   NaN   \n1945-04-30           46             NaN            NaN                   NaN   \n\n            Precipation_amount  \nDATE                            \n1901-01-01                 NaN  \n1901-01-02                 NaN  \n1901-01-03                 NaN  \n1901-01-04                 NaN  \n1901-01-05                 NaN  \n...                        ...  \n1945-04-26                 NaN  \n1945-04-27                 NaN  \n1945-04-28                 NaN  \n1945-04-29                 NaN  \n1945-04-30                 NaN  \n\n[10622 rows x 5 columns]",
      "text/html": "<div>\n<style scoped>\n    .dataframe tbody tr th:only-of-type {\n        vertical-align: middle;\n    }\n\n    .dataframe tbody tr th {\n        vertical-align: top;\n    }\n\n    .dataframe thead th {\n        text-align: right;\n    }\n</style>\n<table border=\"1\" class=\"dataframe\">\n  <thead>\n    <tr style=\"text-align: right;\">\n      <th></th>\n      <th>Temperature</th>\n      <th>Sunshine_hours</th>\n      <th>Sunshine_perc</th>\n      <th>Precipation_duration</th>\n      <th>Precipation_amount</th>\n    </tr>\n    <tr>\n      <th>DATE</th>\n      <th></th>\n      <th></th>\n      <th></th>\n      <th></th>\n      <th></th>\n    </tr>\n  </thead>\n  <tbody>\n    <tr>\n      <th>1901-01-01</th>\n      <td>-49</td>\n      <td>28.0</td>\n      <td>36.0</td>\n      <td>NaN</td>\n      <td>NaN</td>\n    </tr>\n    <tr>\n      <th>1901-01-02</th>\n      <td>-18</td>\n      <td>0.0</td>\n      <td>0.0</td>\n      <td>NaN</td>\n      <td>NaN</td>\n    </tr>\n    <tr>\n      <th>1901-01-03</th>\n      <td>-26</td>\n      <td>0.0</td>\n      <td>0.0</td>\n      <td>NaN</td>\n      <td>NaN</td>\n    </tr>\n    <tr>\n      <th>1901-01-04</th>\n      <td>-65</td>\n      <td>0.0</td>\n      <td>0.0</td>\n      <td>NaN</td>\n      <td>NaN</td>\n    </tr>\n    <tr>\n      <th>1901-01-05</th>\n      <td>-60</td>\n      <td>36.0</td>\n      <td>46.0</td>\n      <td>NaN</td>\n      <td>NaN</td>\n    </tr>\n    <tr>\n      <th>...</th>\n      <td>...</td>\n      <td>...</td>\n      <td>...</td>\n      <td>...</td>\n      <td>...</td>\n    </tr>\n    <tr>\n      <th>1945-04-26</th>\n      <td>130</td>\n      <td>NaN</td>\n      <td>NaN</td>\n      <td>NaN</td>\n      <td>NaN</td>\n    </tr>\n    <tr>\n      <th>1945-04-27</th>\n      <td>94</td>\n      <td>NaN</td>\n      <td>NaN</td>\n      <td>NaN</td>\n      <td>NaN</td>\n    </tr>\n    <tr>\n      <th>1945-04-28</th>\n      <td>63</td>\n      <td>NaN</td>\n      <td>NaN</td>\n      <td>NaN</td>\n      <td>NaN</td>\n    </tr>\n    <tr>\n      <th>1945-04-29</th>\n      <td>46</td>\n      <td>NaN</td>\n      <td>NaN</td>\n      <td>NaN</td>\n      <td>NaN</td>\n    </tr>\n    <tr>\n      <th>1945-04-30</th>\n      <td>46</td>\n      <td>NaN</td>\n      <td>NaN</td>\n      <td>NaN</td>\n      <td>NaN</td>\n    </tr>\n  </tbody>\n</table>\n<p>10622 rows × 5 columns</p>\n</div>"
     },
     "metadata": {},
     "execution_count": 9
    }
   ],
   "source": [
    "df[df.Precipation_duration.isnull()]"
   ]
  },
  {
   "cell_type": "code",
   "execution_count": 10,
   "metadata": {},
   "outputs": [
    {
     "output_type": "execute_result",
     "data": {
      "text/plain": "            Temperature  Sunshine_hours  Sunshine_perc  Precipation_duration  \\\nDATE                                                                           \n1945-04-01          121             NaN            NaN                   NaN   \n1945-04-02          113             NaN            NaN                   NaN   \n1945-04-03           83             NaN            NaN                   NaN   \n1945-04-04           81             NaN            NaN                   NaN   \n1945-04-05           78             NaN            NaN                   NaN   \n1945-04-06           83             NaN            NaN                   NaN   \n1945-04-07           79             NaN            NaN                   NaN   \n1945-04-08           69             NaN            NaN                   NaN   \n1945-04-09           62             NaN            NaN                   NaN   \n1945-04-10          110             NaN            NaN                   NaN   \n1945-04-11          141             NaN            NaN                   NaN   \n1945-04-12          144             NaN            NaN                   NaN   \n1945-04-13          121             NaN            NaN                   NaN   \n1945-04-14          108             NaN            NaN                   NaN   \n1945-04-15          122             NaN            NaN                   NaN   \n1945-04-16          164             NaN            NaN                   NaN   \n1945-04-17          155             NaN            NaN                   NaN   \n1945-04-18          130             NaN            NaN                   NaN   \n1945-04-19          123             NaN            NaN                   NaN   \n1945-04-20          128             NaN            NaN                   NaN   \n1945-04-21           99             NaN            NaN                   NaN   \n1945-04-22           82             NaN            NaN                   NaN   \n1945-04-23           75             NaN            NaN                   NaN   \n1945-04-24           84             NaN            NaN                   NaN   \n1945-04-25          106             NaN            NaN                   NaN   \n1945-04-26          130             NaN            NaN                   NaN   \n1945-04-27           94             NaN            NaN                   NaN   \n1945-04-28           63             NaN            NaN                   NaN   \n1945-04-29           46             NaN            NaN                   NaN   \n1945-04-30           46             NaN            NaN                   NaN   \n\n            Precipation_amount  \nDATE                            \n1945-04-01                 NaN  \n1945-04-02                 NaN  \n1945-04-03                 NaN  \n1945-04-04                 NaN  \n1945-04-05                 NaN  \n1945-04-06                 NaN  \n1945-04-07                 NaN  \n1945-04-08                 NaN  \n1945-04-09                 NaN  \n1945-04-10                 NaN  \n1945-04-11                 NaN  \n1945-04-12                 NaN  \n1945-04-13                 NaN  \n1945-04-14                 NaN  \n1945-04-15                 NaN  \n1945-04-16                 NaN  \n1945-04-17                 NaN  \n1945-04-18                 NaN  \n1945-04-19                 NaN  \n1945-04-20                 NaN  \n1945-04-21                 NaN  \n1945-04-22                 NaN  \n1945-04-23                 NaN  \n1945-04-24                 NaN  \n1945-04-25                 NaN  \n1945-04-26                 NaN  \n1945-04-27                 NaN  \n1945-04-28                 NaN  \n1945-04-29                 NaN  \n1945-04-30                 NaN  ",
      "text/html": "<div>\n<style scoped>\n    .dataframe tbody tr th:only-of-type {\n        vertical-align: middle;\n    }\n\n    .dataframe tbody tr th {\n        vertical-align: top;\n    }\n\n    .dataframe thead th {\n        text-align: right;\n    }\n</style>\n<table border=\"1\" class=\"dataframe\">\n  <thead>\n    <tr style=\"text-align: right;\">\n      <th></th>\n      <th>Temperature</th>\n      <th>Sunshine_hours</th>\n      <th>Sunshine_perc</th>\n      <th>Precipation_duration</th>\n      <th>Precipation_amount</th>\n    </tr>\n    <tr>\n      <th>DATE</th>\n      <th></th>\n      <th></th>\n      <th></th>\n      <th></th>\n      <th></th>\n    </tr>\n  </thead>\n  <tbody>\n    <tr>\n      <th>1945-04-01</th>\n      <td>121</td>\n      <td>NaN</td>\n      <td>NaN</td>\n      <td>NaN</td>\n      <td>NaN</td>\n    </tr>\n    <tr>\n      <th>1945-04-02</th>\n      <td>113</td>\n      <td>NaN</td>\n      <td>NaN</td>\n      <td>NaN</td>\n      <td>NaN</td>\n    </tr>\n    <tr>\n      <th>1945-04-03</th>\n      <td>83</td>\n      <td>NaN</td>\n      <td>NaN</td>\n      <td>NaN</td>\n      <td>NaN</td>\n    </tr>\n    <tr>\n      <th>1945-04-04</th>\n      <td>81</td>\n      <td>NaN</td>\n      <td>NaN</td>\n      <td>NaN</td>\n      <td>NaN</td>\n    </tr>\n    <tr>\n      <th>1945-04-05</th>\n      <td>78</td>\n      <td>NaN</td>\n      <td>NaN</td>\n      <td>NaN</td>\n      <td>NaN</td>\n    </tr>\n    <tr>\n      <th>1945-04-06</th>\n      <td>83</td>\n      <td>NaN</td>\n      <td>NaN</td>\n      <td>NaN</td>\n      <td>NaN</td>\n    </tr>\n    <tr>\n      <th>1945-04-07</th>\n      <td>79</td>\n      <td>NaN</td>\n      <td>NaN</td>\n      <td>NaN</td>\n      <td>NaN</td>\n    </tr>\n    <tr>\n      <th>1945-04-08</th>\n      <td>69</td>\n      <td>NaN</td>\n      <td>NaN</td>\n      <td>NaN</td>\n      <td>NaN</td>\n    </tr>\n    <tr>\n      <th>1945-04-09</th>\n      <td>62</td>\n      <td>NaN</td>\n      <td>NaN</td>\n      <td>NaN</td>\n      <td>NaN</td>\n    </tr>\n    <tr>\n      <th>1945-04-10</th>\n      <td>110</td>\n      <td>NaN</td>\n      <td>NaN</td>\n      <td>NaN</td>\n      <td>NaN</td>\n    </tr>\n    <tr>\n      <th>1945-04-11</th>\n      <td>141</td>\n      <td>NaN</td>\n      <td>NaN</td>\n      <td>NaN</td>\n      <td>NaN</td>\n    </tr>\n    <tr>\n      <th>1945-04-12</th>\n      <td>144</td>\n      <td>NaN</td>\n      <td>NaN</td>\n      <td>NaN</td>\n      <td>NaN</td>\n    </tr>\n    <tr>\n      <th>1945-04-13</th>\n      <td>121</td>\n      <td>NaN</td>\n      <td>NaN</td>\n      <td>NaN</td>\n      <td>NaN</td>\n    </tr>\n    <tr>\n      <th>1945-04-14</th>\n      <td>108</td>\n      <td>NaN</td>\n      <td>NaN</td>\n      <td>NaN</td>\n      <td>NaN</td>\n    </tr>\n    <tr>\n      <th>1945-04-15</th>\n      <td>122</td>\n      <td>NaN</td>\n      <td>NaN</td>\n      <td>NaN</td>\n      <td>NaN</td>\n    </tr>\n    <tr>\n      <th>1945-04-16</th>\n      <td>164</td>\n      <td>NaN</td>\n      <td>NaN</td>\n      <td>NaN</td>\n      <td>NaN</td>\n    </tr>\n    <tr>\n      <th>1945-04-17</th>\n      <td>155</td>\n      <td>NaN</td>\n      <td>NaN</td>\n      <td>NaN</td>\n      <td>NaN</td>\n    </tr>\n    <tr>\n      <th>1945-04-18</th>\n      <td>130</td>\n      <td>NaN</td>\n      <td>NaN</td>\n      <td>NaN</td>\n      <td>NaN</td>\n    </tr>\n    <tr>\n      <th>1945-04-19</th>\n      <td>123</td>\n      <td>NaN</td>\n      <td>NaN</td>\n      <td>NaN</td>\n      <td>NaN</td>\n    </tr>\n    <tr>\n      <th>1945-04-20</th>\n      <td>128</td>\n      <td>NaN</td>\n      <td>NaN</td>\n      <td>NaN</td>\n      <td>NaN</td>\n    </tr>\n    <tr>\n      <th>1945-04-21</th>\n      <td>99</td>\n      <td>NaN</td>\n      <td>NaN</td>\n      <td>NaN</td>\n      <td>NaN</td>\n    </tr>\n    <tr>\n      <th>1945-04-22</th>\n      <td>82</td>\n      <td>NaN</td>\n      <td>NaN</td>\n      <td>NaN</td>\n      <td>NaN</td>\n    </tr>\n    <tr>\n      <th>1945-04-23</th>\n      <td>75</td>\n      <td>NaN</td>\n      <td>NaN</td>\n      <td>NaN</td>\n      <td>NaN</td>\n    </tr>\n    <tr>\n      <th>1945-04-24</th>\n      <td>84</td>\n      <td>NaN</td>\n      <td>NaN</td>\n      <td>NaN</td>\n      <td>NaN</td>\n    </tr>\n    <tr>\n      <th>1945-04-25</th>\n      <td>106</td>\n      <td>NaN</td>\n      <td>NaN</td>\n      <td>NaN</td>\n      <td>NaN</td>\n    </tr>\n    <tr>\n      <th>1945-04-26</th>\n      <td>130</td>\n      <td>NaN</td>\n      <td>NaN</td>\n      <td>NaN</td>\n      <td>NaN</td>\n    </tr>\n    <tr>\n      <th>1945-04-27</th>\n      <td>94</td>\n      <td>NaN</td>\n      <td>NaN</td>\n      <td>NaN</td>\n      <td>NaN</td>\n    </tr>\n    <tr>\n      <th>1945-04-28</th>\n      <td>63</td>\n      <td>NaN</td>\n      <td>NaN</td>\n      <td>NaN</td>\n      <td>NaN</td>\n    </tr>\n    <tr>\n      <th>1945-04-29</th>\n      <td>46</td>\n      <td>NaN</td>\n      <td>NaN</td>\n      <td>NaN</td>\n      <td>NaN</td>\n    </tr>\n    <tr>\n      <th>1945-04-30</th>\n      <td>46</td>\n      <td>NaN</td>\n      <td>NaN</td>\n      <td>NaN</td>\n      <td>NaN</td>\n    </tr>\n  </tbody>\n</table>\n</div>"
     },
     "metadata": {},
     "execution_count": 10
    }
   ],
   "source": [
    "df[df.Sunshine_hours.isnull()]"
   ]
  },
  {
   "cell_type": "code",
   "execution_count": 11,
   "metadata": {},
   "outputs": [
    {
     "output_type": "execute_result",
     "data": {
      "text/plain": "            Temperature  Sunshine_hours  Sunshine_perc  Precipation_duration  \\\nDATE                                                                           \n1945-04-01          121             NaN            NaN                   NaN   \n1945-04-02          113             NaN            NaN                   NaN   \n1945-04-03           83             NaN            NaN                   NaN   \n1945-04-04           81             NaN            NaN                   NaN   \n1945-04-05           78             NaN            NaN                   NaN   \n1945-04-06           83             NaN            NaN                   NaN   \n1945-04-07           79             NaN            NaN                   NaN   \n1945-04-08           69             NaN            NaN                   NaN   \n1945-04-09           62             NaN            NaN                   NaN   \n1945-04-10          110             NaN            NaN                   NaN   \n1945-04-11          141             NaN            NaN                   NaN   \n1945-04-12          144             NaN            NaN                   NaN   \n1945-04-13          121             NaN            NaN                   NaN   \n1945-04-14          108             NaN            NaN                   NaN   \n1945-04-15          122             NaN            NaN                   NaN   \n1945-04-16          164             NaN            NaN                   NaN   \n1945-04-17          155             NaN            NaN                   NaN   \n1945-04-18          130             NaN            NaN                   NaN   \n1945-04-19          123             NaN            NaN                   NaN   \n1945-04-20          128             NaN            NaN                   NaN   \n1945-04-21           99             NaN            NaN                   NaN   \n1945-04-22           82             NaN            NaN                   NaN   \n1945-04-23           75             NaN            NaN                   NaN   \n1945-04-24           84             NaN            NaN                   NaN   \n1945-04-25          106             NaN            NaN                   NaN   \n1945-04-26          130             NaN            NaN                   NaN   \n1945-04-27           94             NaN            NaN                   NaN   \n1945-04-28           63             NaN            NaN                   NaN   \n1945-04-29           46             NaN            NaN                   NaN   \n1945-04-30           46             NaN            NaN                   NaN   \n\n            Precipation_amount  \nDATE                            \n1945-04-01                 NaN  \n1945-04-02                 NaN  \n1945-04-03                 NaN  \n1945-04-04                 NaN  \n1945-04-05                 NaN  \n1945-04-06                 NaN  \n1945-04-07                 NaN  \n1945-04-08                 NaN  \n1945-04-09                 NaN  \n1945-04-10                 NaN  \n1945-04-11                 NaN  \n1945-04-12                 NaN  \n1945-04-13                 NaN  \n1945-04-14                 NaN  \n1945-04-15                 NaN  \n1945-04-16                 NaN  \n1945-04-17                 NaN  \n1945-04-18                 NaN  \n1945-04-19                 NaN  \n1945-04-20                 NaN  \n1945-04-21                 NaN  \n1945-04-22                 NaN  \n1945-04-23                 NaN  \n1945-04-24                 NaN  \n1945-04-25                 NaN  \n1945-04-26                 NaN  \n1945-04-27                 NaN  \n1945-04-28                 NaN  \n1945-04-29                 NaN  \n1945-04-30                 NaN  ",
      "text/html": "<div>\n<style scoped>\n    .dataframe tbody tr th:only-of-type {\n        vertical-align: middle;\n    }\n\n    .dataframe tbody tr th {\n        vertical-align: top;\n    }\n\n    .dataframe thead th {\n        text-align: right;\n    }\n</style>\n<table border=\"1\" class=\"dataframe\">\n  <thead>\n    <tr style=\"text-align: right;\">\n      <th></th>\n      <th>Temperature</th>\n      <th>Sunshine_hours</th>\n      <th>Sunshine_perc</th>\n      <th>Precipation_duration</th>\n      <th>Precipation_amount</th>\n    </tr>\n    <tr>\n      <th>DATE</th>\n      <th></th>\n      <th></th>\n      <th></th>\n      <th></th>\n      <th></th>\n    </tr>\n  </thead>\n  <tbody>\n    <tr>\n      <th>1945-04-01</th>\n      <td>121</td>\n      <td>NaN</td>\n      <td>NaN</td>\n      <td>NaN</td>\n      <td>NaN</td>\n    </tr>\n    <tr>\n      <th>1945-04-02</th>\n      <td>113</td>\n      <td>NaN</td>\n      <td>NaN</td>\n      <td>NaN</td>\n      <td>NaN</td>\n    </tr>\n    <tr>\n      <th>1945-04-03</th>\n      <td>83</td>\n      <td>NaN</td>\n      <td>NaN</td>\n      <td>NaN</td>\n      <td>NaN</td>\n    </tr>\n    <tr>\n      <th>1945-04-04</th>\n      <td>81</td>\n      <td>NaN</td>\n      <td>NaN</td>\n      <td>NaN</td>\n      <td>NaN</td>\n    </tr>\n    <tr>\n      <th>1945-04-05</th>\n      <td>78</td>\n      <td>NaN</td>\n      <td>NaN</td>\n      <td>NaN</td>\n      <td>NaN</td>\n    </tr>\n    <tr>\n      <th>1945-04-06</th>\n      <td>83</td>\n      <td>NaN</td>\n      <td>NaN</td>\n      <td>NaN</td>\n      <td>NaN</td>\n    </tr>\n    <tr>\n      <th>1945-04-07</th>\n      <td>79</td>\n      <td>NaN</td>\n      <td>NaN</td>\n      <td>NaN</td>\n      <td>NaN</td>\n    </tr>\n    <tr>\n      <th>1945-04-08</th>\n      <td>69</td>\n      <td>NaN</td>\n      <td>NaN</td>\n      <td>NaN</td>\n      <td>NaN</td>\n    </tr>\n    <tr>\n      <th>1945-04-09</th>\n      <td>62</td>\n      <td>NaN</td>\n      <td>NaN</td>\n      <td>NaN</td>\n      <td>NaN</td>\n    </tr>\n    <tr>\n      <th>1945-04-10</th>\n      <td>110</td>\n      <td>NaN</td>\n      <td>NaN</td>\n      <td>NaN</td>\n      <td>NaN</td>\n    </tr>\n    <tr>\n      <th>1945-04-11</th>\n      <td>141</td>\n      <td>NaN</td>\n      <td>NaN</td>\n      <td>NaN</td>\n      <td>NaN</td>\n    </tr>\n    <tr>\n      <th>1945-04-12</th>\n      <td>144</td>\n      <td>NaN</td>\n      <td>NaN</td>\n      <td>NaN</td>\n      <td>NaN</td>\n    </tr>\n    <tr>\n      <th>1945-04-13</th>\n      <td>121</td>\n      <td>NaN</td>\n      <td>NaN</td>\n      <td>NaN</td>\n      <td>NaN</td>\n    </tr>\n    <tr>\n      <th>1945-04-14</th>\n      <td>108</td>\n      <td>NaN</td>\n      <td>NaN</td>\n      <td>NaN</td>\n      <td>NaN</td>\n    </tr>\n    <tr>\n      <th>1945-04-15</th>\n      <td>122</td>\n      <td>NaN</td>\n      <td>NaN</td>\n      <td>NaN</td>\n      <td>NaN</td>\n    </tr>\n    <tr>\n      <th>1945-04-16</th>\n      <td>164</td>\n      <td>NaN</td>\n      <td>NaN</td>\n      <td>NaN</td>\n      <td>NaN</td>\n    </tr>\n    <tr>\n      <th>1945-04-17</th>\n      <td>155</td>\n      <td>NaN</td>\n      <td>NaN</td>\n      <td>NaN</td>\n      <td>NaN</td>\n    </tr>\n    <tr>\n      <th>1945-04-18</th>\n      <td>130</td>\n      <td>NaN</td>\n      <td>NaN</td>\n      <td>NaN</td>\n      <td>NaN</td>\n    </tr>\n    <tr>\n      <th>1945-04-19</th>\n      <td>123</td>\n      <td>NaN</td>\n      <td>NaN</td>\n      <td>NaN</td>\n      <td>NaN</td>\n    </tr>\n    <tr>\n      <th>1945-04-20</th>\n      <td>128</td>\n      <td>NaN</td>\n      <td>NaN</td>\n      <td>NaN</td>\n      <td>NaN</td>\n    </tr>\n    <tr>\n      <th>1945-04-21</th>\n      <td>99</td>\n      <td>NaN</td>\n      <td>NaN</td>\n      <td>NaN</td>\n      <td>NaN</td>\n    </tr>\n    <tr>\n      <th>1945-04-22</th>\n      <td>82</td>\n      <td>NaN</td>\n      <td>NaN</td>\n      <td>NaN</td>\n      <td>NaN</td>\n    </tr>\n    <tr>\n      <th>1945-04-23</th>\n      <td>75</td>\n      <td>NaN</td>\n      <td>NaN</td>\n      <td>NaN</td>\n      <td>NaN</td>\n    </tr>\n    <tr>\n      <th>1945-04-24</th>\n      <td>84</td>\n      <td>NaN</td>\n      <td>NaN</td>\n      <td>NaN</td>\n      <td>NaN</td>\n    </tr>\n    <tr>\n      <th>1945-04-25</th>\n      <td>106</td>\n      <td>NaN</td>\n      <td>NaN</td>\n      <td>NaN</td>\n      <td>NaN</td>\n    </tr>\n    <tr>\n      <th>1945-04-26</th>\n      <td>130</td>\n      <td>NaN</td>\n      <td>NaN</td>\n      <td>NaN</td>\n      <td>NaN</td>\n    </tr>\n    <tr>\n      <th>1945-04-27</th>\n      <td>94</td>\n      <td>NaN</td>\n      <td>NaN</td>\n      <td>NaN</td>\n      <td>NaN</td>\n    </tr>\n    <tr>\n      <th>1945-04-28</th>\n      <td>63</td>\n      <td>NaN</td>\n      <td>NaN</td>\n      <td>NaN</td>\n      <td>NaN</td>\n    </tr>\n    <tr>\n      <th>1945-04-29</th>\n      <td>46</td>\n      <td>NaN</td>\n      <td>NaN</td>\n      <td>NaN</td>\n      <td>NaN</td>\n    </tr>\n    <tr>\n      <th>1945-04-30</th>\n      <td>46</td>\n      <td>NaN</td>\n      <td>NaN</td>\n      <td>NaN</td>\n      <td>NaN</td>\n    </tr>\n  </tbody>\n</table>\n</div>"
     },
     "metadata": {},
     "execution_count": 11
    }
   ],
   "source": [
    "df[df.Sunshine_perc.isnull()]"
   ]
  },
  {
   "cell_type": "code",
   "execution_count": 12,
   "metadata": {},
   "outputs": [],
   "source": [
    "# All missing data is from before 19450501, so cutting off the data from before that period\n",
    "df = df[df.index >= datetime(1945,5,1)]"
   ]
  },
  {
   "cell_type": "markdown",
   "metadata": {},
   "source": [
    "### Min/max ranges"
   ]
  },
  {
   "cell_type": "code",
   "execution_count": 13,
   "metadata": {},
   "outputs": [
    {
     "output_type": "execute_result",
     "data": {
      "text/plain": "        Temperature  Sunshine_hours  Sunshine_perc  Precipation_duration  \\\ncount  27398.000000    27398.000000   27398.000000          27398.000000   \nmean      98.443573       43.551938      33.505803             17.170706   \nstd       63.432364       40.821207      29.502605             28.700624   \nmin     -149.000000       -1.000000       0.000000              0.000000   \n25%       54.000000        5.000000       4.000000              0.000000   \n50%      101.000000       34.000000      28.000000              1.000000   \n75%      148.000000       72.000000      58.000000             24.000000   \nmax      297.000000      158.000000      96.000000            240.000000   \n\n       Precipation_amount  \ncount        27398.000000  \nmean            22.271261  \nstd             44.941936  \nmin             -1.000000  \n25%              0.000000  \n50%              1.000000  \n75%             25.000000  \nmax            639.000000  ",
      "text/html": "<div>\n<style scoped>\n    .dataframe tbody tr th:only-of-type {\n        vertical-align: middle;\n    }\n\n    .dataframe tbody tr th {\n        vertical-align: top;\n    }\n\n    .dataframe thead th {\n        text-align: right;\n    }\n</style>\n<table border=\"1\" class=\"dataframe\">\n  <thead>\n    <tr style=\"text-align: right;\">\n      <th></th>\n      <th>Temperature</th>\n      <th>Sunshine_hours</th>\n      <th>Sunshine_perc</th>\n      <th>Precipation_duration</th>\n      <th>Precipation_amount</th>\n    </tr>\n  </thead>\n  <tbody>\n    <tr>\n      <th>count</th>\n      <td>27398.000000</td>\n      <td>27398.000000</td>\n      <td>27398.000000</td>\n      <td>27398.000000</td>\n      <td>27398.000000</td>\n    </tr>\n    <tr>\n      <th>mean</th>\n      <td>98.443573</td>\n      <td>43.551938</td>\n      <td>33.505803</td>\n      <td>17.170706</td>\n      <td>22.271261</td>\n    </tr>\n    <tr>\n      <th>std</th>\n      <td>63.432364</td>\n      <td>40.821207</td>\n      <td>29.502605</td>\n      <td>28.700624</td>\n      <td>44.941936</td>\n    </tr>\n    <tr>\n      <th>min</th>\n      <td>-149.000000</td>\n      <td>-1.000000</td>\n      <td>0.000000</td>\n      <td>0.000000</td>\n      <td>-1.000000</td>\n    </tr>\n    <tr>\n      <th>25%</th>\n      <td>54.000000</td>\n      <td>5.000000</td>\n      <td>4.000000</td>\n      <td>0.000000</td>\n      <td>0.000000</td>\n    </tr>\n    <tr>\n      <th>50%</th>\n      <td>101.000000</td>\n      <td>34.000000</td>\n      <td>28.000000</td>\n      <td>1.000000</td>\n      <td>1.000000</td>\n    </tr>\n    <tr>\n      <th>75%</th>\n      <td>148.000000</td>\n      <td>72.000000</td>\n      <td>58.000000</td>\n      <td>24.000000</td>\n      <td>25.000000</td>\n    </tr>\n    <tr>\n      <th>max</th>\n      <td>297.000000</td>\n      <td>158.000000</td>\n      <td>96.000000</td>\n      <td>240.000000</td>\n      <td>639.000000</td>\n    </tr>\n  </tbody>\n</table>\n</div>"
     },
     "metadata": {},
     "execution_count": 13
    }
   ],
   "source": [
    "df.describe()"
   ]
  },
  {
   "cell_type": "markdown",
   "metadata": {},
   "source": [
    "- Temperature: mean around 9.8C, Minimum -14.9C, Maximum 29.7C (those are mean daily temperatures!), makes sense\n",
    "- Sunshine hours: mean around 4.3 hours/day (rainy country....), minimum of -0.1 corresponds to less than 0.05, indication there was some sun but very little in case people need to filter on days any sun (sunshine hours!=0) without messing up the scale. We will set this to 0, maximum is 14.6, seems okay.\n",
    "- Sunshine perc: mean around 33%, minimum 0%, maximum 96%, seems fine\n",
    "- Precipation duration: Mean 1.7 hours, Minimum 0 hours (makes sense if no rain), max 24 hours\n",
    "- Precipation amount: Mean 2.2mm, this would mean yearly of 365*2.2 = 803mm, which is normal for NL, amount of -1 is again less than 0.05mm but still some rain, we will set this to 0 again"
   ]
  },
  {
   "cell_type": "code",
   "execution_count": 14,
   "metadata": {},
   "outputs": [],
   "source": [
    "df.loc[df.Sunshine_hours==-1, \"Sunshine_hours\"] = 0\n",
    "df.loc[df.Precipation_amount==-1, \"Precipation_amount\"] = 0"
   ]
  },
  {
   "cell_type": "markdown",
   "metadata": {},
   "source": [
    "# 1. Monthly climate averages"
   ]
  },
  {
   "cell_type": "code",
   "execution_count": 15,
   "metadata": {},
   "outputs": [],
   "source": [
    "periods = [\n",
    "    (datetime(1951,1,1), datetime(1980,12,31)),\n",
    "    (datetime(1961,1,1), datetime(1990,12,31)),\n",
    "    (datetime(1971,1,1), datetime(2000,12,31)),\n",
    "    (datetime(1981,1,1), datetime(2010,12,31)),\n",
    "    (datetime(1991,1,1), datetime(2019,12,31)), #Truncated\n",
    "]"
   ]
  },
  {
   "cell_type": "code",
   "execution_count": 16,
   "metadata": {},
   "outputs": [],
   "source": [
    "df['Month'] = df.index.month"
   ]
  },
  {
   "cell_type": "code",
   "execution_count": 52,
   "metadata": {},
   "outputs": [],
   "source": [
    "averages = pd.DataFrame(index=[x[0] for x in periods], columns = [x for x in range(1,13)])\n",
    "variances = pd.DataFrame(index=[x[0] for x in periods], columns = [x for x in range(1,13)])"
   ]
  },
  {
   "cell_type": "code",
   "execution_count": 53,
   "metadata": {},
   "outputs": [],
   "source": [
    "for p in periods:\n",
    "    averages.loc[p[0],:] = df[(df.index>=p[0]) & (df.index<=p[1])].groupby('Month').agg({'Temperature' : np.mean}).values.flatten().T\n",
    "    variances.loc[p[0],:] = df[(df.index>=p[0]) & (df.index<=p[1])].groupby('Month').agg({'Temperature' : np.var}).values.flatten().T"
   ]
  },
  {
   "cell_type": "code",
   "execution_count": 54,
   "metadata": {},
   "outputs": [
    {
     "output_type": "execute_result",
     "data": {
      "text/plain": "                 1        2        3        4        5        6        7   \\\n1951-01-01  19.5699  22.8679  48.3054  79.6089  121.343  151.741  165.658   \n1961-01-01  21.4269    25.68   50.028  80.1644  122.943  151.728  167.989   \n1971-01-01  27.7075  30.1439  57.7269  83.2222  126.895   151.72  173.803   \n1981-01-01  30.9312  33.0579  61.6978  91.8756  131.192  156.354  179.284   \n1991-01-01  35.2725   37.884   64.733  98.0713  134.418  161.037   182.88   \n\n                 8        9        10       11       12  \n1951-01-01  164.402  140.131  102.738  58.1911  32.1441  \n1961-01-01  166.827  140.401  104.875  59.3322  32.2462  \n1971-01-01  172.103  141.644  102.852  62.2578  39.5968  \n1981-01-01  175.099  144.533  107.224  67.3267  36.6409  \n1991-01-01  177.611   146.87  109.062  69.7115  41.8432  ",
      "text/html": "<div>\n<style scoped>\n    .dataframe tbody tr th:only-of-type {\n        vertical-align: middle;\n    }\n\n    .dataframe tbody tr th {\n        vertical-align: top;\n    }\n\n    .dataframe thead th {\n        text-align: right;\n    }\n</style>\n<table border=\"1\" class=\"dataframe\">\n  <thead>\n    <tr style=\"text-align: right;\">\n      <th></th>\n      <th>1</th>\n      <th>2</th>\n      <th>3</th>\n      <th>4</th>\n      <th>5</th>\n      <th>6</th>\n      <th>7</th>\n      <th>8</th>\n      <th>9</th>\n      <th>10</th>\n      <th>11</th>\n      <th>12</th>\n    </tr>\n  </thead>\n  <tbody>\n    <tr>\n      <th>1951-01-01</th>\n      <td>19.5699</td>\n      <td>22.8679</td>\n      <td>48.3054</td>\n      <td>79.6089</td>\n      <td>121.343</td>\n      <td>151.741</td>\n      <td>165.658</td>\n      <td>164.402</td>\n      <td>140.131</td>\n      <td>102.738</td>\n      <td>58.1911</td>\n      <td>32.1441</td>\n    </tr>\n    <tr>\n      <th>1961-01-01</th>\n      <td>21.4269</td>\n      <td>25.68</td>\n      <td>50.028</td>\n      <td>80.1644</td>\n      <td>122.943</td>\n      <td>151.728</td>\n      <td>167.989</td>\n      <td>166.827</td>\n      <td>140.401</td>\n      <td>104.875</td>\n      <td>59.3322</td>\n      <td>32.2462</td>\n    </tr>\n    <tr>\n      <th>1971-01-01</th>\n      <td>27.7075</td>\n      <td>30.1439</td>\n      <td>57.7269</td>\n      <td>83.2222</td>\n      <td>126.895</td>\n      <td>151.72</td>\n      <td>173.803</td>\n      <td>172.103</td>\n      <td>141.644</td>\n      <td>102.852</td>\n      <td>62.2578</td>\n      <td>39.5968</td>\n    </tr>\n    <tr>\n      <th>1981-01-01</th>\n      <td>30.9312</td>\n      <td>33.0579</td>\n      <td>61.6978</td>\n      <td>91.8756</td>\n      <td>131.192</td>\n      <td>156.354</td>\n      <td>179.284</td>\n      <td>175.099</td>\n      <td>144.533</td>\n      <td>107.224</td>\n      <td>67.3267</td>\n      <td>36.6409</td>\n    </tr>\n    <tr>\n      <th>1991-01-01</th>\n      <td>35.2725</td>\n      <td>37.884</td>\n      <td>64.733</td>\n      <td>98.0713</td>\n      <td>134.418</td>\n      <td>161.037</td>\n      <td>182.88</td>\n      <td>177.611</td>\n      <td>146.87</td>\n      <td>109.062</td>\n      <td>69.7115</td>\n      <td>41.8432</td>\n    </tr>\n  </tbody>\n</table>\n</div>"
     },
     "metadata": {},
     "execution_count": 54
    }
   ],
   "source": [
    "averages"
   ]
  },
  {
   "cell_type": "markdown",
   "metadata": {},
   "source": [
    "Wow, that is a very steep increase:"
   ]
  },
  {
   "cell_type": "code",
   "execution_count": 55,
   "metadata": {},
   "outputs": [
    {
     "output_type": "execute_result",
     "data": {
      "text/plain": "                 1        2        3         4        5           6        7   \\\n1951-01-01      NaN      NaN      NaN       NaN      NaN         NaN      NaN   \n1961-01-01  1.85699  2.81212  1.72258  0.555556      1.6  -0.0133333  2.33118   \n1971-01-01  6.28065  4.46382  7.69892   3.05778  3.95161 -0.00777778  5.81398   \n1981-01-01  3.22366  2.91398  3.97097   8.65333  4.29785     4.63444  5.48065   \n1991-01-01  4.34134  4.82615  3.03519   6.19571  3.22577     4.68234    3.596   \n\n                 8        9        10       11        12  \n1951-01-01      NaN      NaN      NaN      NaN       NaN  \n1961-01-01  2.42473     0.27  2.13763  1.14111  0.102151  \n1971-01-01  5.27634  1.24333 -2.02366  2.92556   7.35054  \n1981-01-01   2.9957  2.88889  4.37204  5.06889  -2.95591  \n1991-01-01  2.51175  2.33678  1.83864  2.38483    5.2023  ",
      "text/html": "<div>\n<style scoped>\n    .dataframe tbody tr th:only-of-type {\n        vertical-align: middle;\n    }\n\n    .dataframe tbody tr th {\n        vertical-align: top;\n    }\n\n    .dataframe thead th {\n        text-align: right;\n    }\n</style>\n<table border=\"1\" class=\"dataframe\">\n  <thead>\n    <tr style=\"text-align: right;\">\n      <th></th>\n      <th>1</th>\n      <th>2</th>\n      <th>3</th>\n      <th>4</th>\n      <th>5</th>\n      <th>6</th>\n      <th>7</th>\n      <th>8</th>\n      <th>9</th>\n      <th>10</th>\n      <th>11</th>\n      <th>12</th>\n    </tr>\n  </thead>\n  <tbody>\n    <tr>\n      <th>1951-01-01</th>\n      <td>NaN</td>\n      <td>NaN</td>\n      <td>NaN</td>\n      <td>NaN</td>\n      <td>NaN</td>\n      <td>NaN</td>\n      <td>NaN</td>\n      <td>NaN</td>\n      <td>NaN</td>\n      <td>NaN</td>\n      <td>NaN</td>\n      <td>NaN</td>\n    </tr>\n    <tr>\n      <th>1961-01-01</th>\n      <td>1.85699</td>\n      <td>2.81212</td>\n      <td>1.72258</td>\n      <td>0.555556</td>\n      <td>1.6</td>\n      <td>-0.0133333</td>\n      <td>2.33118</td>\n      <td>2.42473</td>\n      <td>0.27</td>\n      <td>2.13763</td>\n      <td>1.14111</td>\n      <td>0.102151</td>\n    </tr>\n    <tr>\n      <th>1971-01-01</th>\n      <td>6.28065</td>\n      <td>4.46382</td>\n      <td>7.69892</td>\n      <td>3.05778</td>\n      <td>3.95161</td>\n      <td>-0.00777778</td>\n      <td>5.81398</td>\n      <td>5.27634</td>\n      <td>1.24333</td>\n      <td>-2.02366</td>\n      <td>2.92556</td>\n      <td>7.35054</td>\n    </tr>\n    <tr>\n      <th>1981-01-01</th>\n      <td>3.22366</td>\n      <td>2.91398</td>\n      <td>3.97097</td>\n      <td>8.65333</td>\n      <td>4.29785</td>\n      <td>4.63444</td>\n      <td>5.48065</td>\n      <td>2.9957</td>\n      <td>2.88889</td>\n      <td>4.37204</td>\n      <td>5.06889</td>\n      <td>-2.95591</td>\n    </tr>\n    <tr>\n      <th>1991-01-01</th>\n      <td>4.34134</td>\n      <td>4.82615</td>\n      <td>3.03519</td>\n      <td>6.19571</td>\n      <td>3.22577</td>\n      <td>4.68234</td>\n      <td>3.596</td>\n      <td>2.51175</td>\n      <td>2.33678</td>\n      <td>1.83864</td>\n      <td>2.38483</td>\n      <td>5.2023</td>\n    </tr>\n  </tbody>\n</table>\n</div>"
     },
     "metadata": {},
     "execution_count": 55
    }
   ],
   "source": [
    "averages.diff()"
   ]
  },
  {
   "cell_type": "code",
   "execution_count": 56,
   "metadata": {},
   "outputs": [
    {
     "output_type": "execute_result",
     "data": {
      "text/plain": "1951-01-01         NaN\n1961-01-01    1.411727\n1971-01-01    3.835925\n1981-01-01    3.795374\n1991-01-01    3.681399\ndtype: float64"
     },
     "metadata": {},
     "execution_count": 56
    }
   ],
   "source": [
    "averages.diff().mean(axis=1)"
   ]
  },
  {
   "cell_type": "markdown",
   "metadata": {},
   "source": [
    "Some observations for the latest period:\n",
    "- The increase has been positive for every month for the first time\n",
    "- Warming is most apparent in winter and spring, while late summer and fall show less Warming\n",
    "- Over all periods, the warming in winter and spring is quite insane, January temperatures increased by 1.6 degrees in total, April saw a warming of 1.8 degrees, where for instance september only saw a warming of 0.6 degrees."
   ]
  },
  {
   "cell_type": "markdown",
   "metadata": {},
   "source": [
    "### Statistical difference\n",
    "\n",
    "Our first attempt will be to compare the last 2 series - if both series from 1981 - 2010 and 1991 - 2019 have the same distribution, then the warming is not significant."
   ]
  },
  {
   "cell_type": "code",
   "execution_count": 57,
   "metadata": {},
   "outputs": [],
   "source": [
    "from scipy.stats import ttest_ind, ttest_ind_from_stats"
   ]
  },
  {
   "cell_type": "code",
   "execution_count": 61,
   "metadata": {},
   "outputs": [
    {
     "output_type": "stream",
     "name": "stdout",
     "text": "Month:  1\nTtest_indResult(statistic=-0.3842530784339425, pvalue=0.7022229887802405)\nMonth:  2\nTtest_indResult(statistic=-0.45670697218053036, pvalue=0.6496173927372573)\nMonth:  3\nTtest_indResult(statistic=-0.35205008292691214, pvalue=0.7260994492039499)\nMonth:  4\nTtest_indResult(statistic=-0.683082617670834, pvalue=0.4973266950460945)\nMonth:  5\nTtest_indResult(statistic=-0.34837845634650483, pvalue=0.7288431732274043)\nMonth:  6\nTtest_indResult(statistic=-0.5843304200385286, pvalue=0.5613037812325848)\nMonth:  7\nTtest_indResult(statistic=-0.46270256765244583, pvalue=0.6453426427980176)\nMonth:  8\nTtest_indResult(statistic=-0.36036495499446486, pvalue=0.7199065546723964)\nMonth:  9\nTtest_indResult(statistic=-0.35726006464161053, pvalue=0.7222214689527946)\nMonth:  10\nTtest_indResult(statistic=-0.21757326630206628, pvalue=0.8285412781455104)\nMonth:  11\nTtest_indResult(statistic=-0.25508095130402725, pvalue=0.7995787921535232)\nMonth:  12\nTtest_indResult(statistic=-0.4785289344720486, pvalue=0.6341050543555784)\n"
    }
   ],
   "source": [
    "for m in range(1,13):\n",
    "    mean_old = averages.loc[datetime(1981,1,1),m]\n",
    "    mean_new = averages.loc[datetime(1991,1,1),m]\n",
    "\n",
    "    var_old = variances.loc[datetime(1981,1,1),m]\n",
    "    var_new = variances.loc[datetime(1991,1,1),m]\n",
    "\n",
    "    obs_old = 30\n",
    "    obs_new = 29\n",
    "\n",
    "    print(\"Month: \",m)\n",
    "    print(ttest_ind_from_stats(mean1=mean_old,std1=np.sqrt(var_old),nobs1=obs_old,mean2=mean_new,std2=np.sqrt(var_new),nobs2=obs_new,equal_var=False))"
   ]
  },
  {
   "cell_type": "markdown",
   "metadata": {},
   "source": [
    "A simple t-test doesn't work here; why not? For the 2 periods, 20 years are fully overlapping meaning that the distribution will be mostly equal and this dilutes the result. What if we would pair the results so that a pair is the same year starting from the measurement period, so for a given month we pair 1981 with 1991, 1982 with 1992 etc."
   ]
  },
  {
   "cell_type": "code",
   "execution_count": 62,
   "metadata": {},
   "outputs": [],
   "source": [
    "df['Year'] = df.index.year"
   ]
  },
  {
   "cell_type": "code",
   "execution_count": 65,
   "metadata": {},
   "outputs": [
    {
     "output_type": "stream",
     "name": "stdout",
     "text": "Month:  1\nTtest_relResult(statistic=-0.5601911847987997, pvalue=0.5798039024214905)\nMonth:  2\nTtest_relResult(statistic=-0.7461586162030057, pvalue=0.4617907144936345)\nMonth:  3\nTtest_relResult(statistic=-0.8131280137708917, pvalue=0.42300527526445064)\nMonth:  4\nTtest_relResult(statistic=-1.5822084191157304, pvalue=0.12483348425331402)\nMonth:  5\nTtest_relResult(statistic=-0.6113575615097233, pvalue=0.5458948614266789)\nMonth:  6\nTtest_relResult(statistic=-2.095315444208517, pvalue=0.04530948517751706)\nMonth:  7\nTtest_relResult(statistic=-0.8674780084136721, pvalue=0.39305412006907836)\nMonth:  8\nTtest_relResult(statistic=-0.6078075755277296, pvalue=0.548213685057203)\nMonth:  9\nTtest_relResult(statistic=-0.6553992723020542, pvalue=0.5175598244401529)\nMonth:  10\nTtest_relResult(statistic=-0.415322623314054, pvalue=0.6810712671631782)\nMonth:  11\nTtest_relResult(statistic=-0.4434735486380428, pvalue=0.6608311989026622)\nMonth:  12\nTtest_relResult(statistic=-0.5868148095946019, pvalue=0.5620300565295722)\n"
    }
   ],
   "source": [
    "from scipy.stats import ttest_rel\n",
    "\n",
    "for m in range(1,13):\n",
    "    obs_old = df[(df.index>=datetime(1981,1,1)) & (df.index<=datetime(2009,12,31)) & (df.Month==m)].groupby(['Month','Year']).agg({'Temperature' : np.mean}).values.flatten().T # throw away last year for perfect pairing\n",
    "    obs_new = df[(df.index>=datetime(1991,1,1)) & (df.index<=datetime(2019,12,31)) & (df.Month==m)].groupby(['Month','Year']).agg({'Temperature' : np.mean}).values.flatten().T\n",
    "\n",
    "    print(\"Month: \",m)\n",
    "    print(ttest_rel(obs_old,obs_new))"
   ]
  },
  {
   "cell_type": "markdown",
   "metadata": {},
   "source": [
    "Also this is not very satisfying, we expect for example April to have a very low p-value as the warming has been significant there. Let's look at an extreme and only consider non-overlapping years in the datasets:"
   ]
  },
  {
   "cell_type": "code",
   "execution_count": 66,
   "metadata": {},
   "outputs": [
    {
     "output_type": "stream",
     "name": "stdout",
     "text": "Month:  1\nTtest_indResult(statistic=-1.1165184758920743, pvalue=0.2797333539863378)\nMonth:  2\nTtest_indResult(statistic=-1.1571688933956494, pvalue=0.26320477961741834)\nMonth:  3\nTtest_indResult(statistic=-0.9457836349184984, pvalue=0.3575090921216949)\nMonth:  4\nTtest_indResult(statistic=-2.5536321287335104, pvalue=0.02055560296664657)\nMonth:  5\nTtest_indResult(statistic=-1.3210874640833712, pvalue=0.20397925185496307)\nMonth:  6\nTtest_indResult(statistic=-2.67096726145429, pvalue=0.01612191944445739)\nMonth:  7\nTtest_indResult(statistic=-1.7473934434820497, pvalue=0.09860711659475359)\nMonth:  8\nTtest_indResult(statistic=-1.7641354354371814, pvalue=0.09566937721547089)\nMonth:  9\nTtest_indResult(statistic=-1.2946022461111208, pvalue=0.21276646587952316)\nMonth:  10\nTtest_indResult(statistic=-1.1200563583056036, pvalue=0.2782649227419152)\nMonth:  11\nTtest_indResult(statistic=-1.0986324996138148, pvalue=0.28724498985822544)\nMonth:  12\nTtest_indResult(statistic=-2.097882911730697, pvalue=0.05116906474442014)\n"
    }
   ],
   "source": [
    "from scipy.stats import ttest_rel\n",
    "\n",
    "for m in range(1,13):\n",
    "    obs_old = df[(df.index>=datetime(1981,1,1)) & (df.index<=datetime(1990,12,31)) & (df.Month==m)].groupby(['Month','Year']).agg({'Temperature' : np.mean}).values.flatten().T # throw away last year for perfect pairing\n",
    "    obs_new = df[(df.index>=datetime(2011,1,1)) & (df.index<=datetime(2019,12,31)) & (df.Month==m)].groupby(['Month','Year']).agg({'Temperature' : np.mean}).values.flatten().T\n",
    "\n",
    "    print(\"Month: \",m)\n",
    "    print(ttest_ind(obs_old,obs_new))"
   ]
  },
  {
   "cell_type": "markdown",
   "metadata": {},
   "source": [
    "This seems to work much better as  months with most increase show the smallest p-values. However this is not the question we wanted to ask, we now have an answer for the statistical difference of temperatures per month between the 80s and the 10s. It seems t-testing for this purpose simply will not do.\n",
    "\n",
    "After doing some research it seems that a common method is to split the time-series in non-overlapping parts, compute trends on both and do a statistical difference test on the coefficient to find out if they are statistically significant. I will thus have to reformulate my first question (having answered the first part of expected new normals with the table above already) to a statistically more rigourous explanation:\n",
    "\n",
    "- is there a significant increase in trend between non-overlapping periods of temperature data for different months?\n",
    "\n",
    "TBD"
   ]
  },
  {
   "cell_type": "code",
   "execution_count": null,
   "metadata": {},
   "outputs": [],
   "source": []
  }
 ],
 "metadata": {
  "language_info": {
   "codemirror_mode": {
    "name": "ipython",
    "version": 3
   },
   "file_extension": ".py",
   "mimetype": "text/x-python",
   "name": "python",
   "nbconvert_exporter": "python",
   "pygments_lexer": "ipython3",
   "version": "3.7.5-final"
  },
  "orig_nbformat": 2,
  "kernelspec": {
   "name": "python37564bitdce661b04f5a4a6596dbede3d1d36922",
   "display_name": "Python 3.7.5 64-bit"
  }
 },
 "nbformat": 4,
 "nbformat_minor": 2
}